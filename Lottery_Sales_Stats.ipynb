{
 "cells": [
  {
   "cell_type": "code",
   "execution_count": 224,
   "id": "3c155ed7",
   "metadata": {},
   "outputs": [],
   "source": [
    "import pandas as pd\n",
    "import re\n",
    "import sqlite3\n",
    "import matplotlib.pylab as plt"
   ]
  },
  {
   "cell_type": "markdown",
   "id": "70ccf1f6",
   "metadata": {},
   "source": [
    "### Reading In Lottery Sales Stats CSV file"
   ]
  },
  {
   "cell_type": "code",
   "execution_count": 199,
   "id": "86d591b2",
   "metadata": {
    "scrolled": false
   },
   "outputs": [
    {
     "data": {
      "text/html": [
       "<div>\n",
       "<style scoped>\n",
       "    .dataframe tbody tr th:only-of-type {\n",
       "        vertical-align: middle;\n",
       "    }\n",
       "\n",
       "    .dataframe tbody tr th {\n",
       "        vertical-align: top;\n",
       "    }\n",
       "\n",
       "    .dataframe thead th {\n",
       "        text-align: right;\n",
       "    }\n",
       "</style>\n",
       "<table border=\"1\" class=\"dataframe\">\n",
       "  <thead>\n",
       "    <tr style=\"text-align: right;\">\n",
       "      <th></th>\n",
       "      <th>Characteristic</th>\n",
       "      <th>Sales in million U.S. dollars</th>\n",
       "    </tr>\n",
       "  </thead>\n",
       "  <tbody>\n",
       "    <tr>\n",
       "      <th>0</th>\n",
       "      <td>New York</td>\n",
       "      <td>10,355.48</td>\n",
       "    </tr>\n",
       "    <tr>\n",
       "      <th>1</th>\n",
       "      <td>Florida</td>\n",
       "      <td>9,324.63</td>\n",
       "    </tr>\n",
       "    <tr>\n",
       "      <th>2</th>\n",
       "      <td>California</td>\n",
       "      <td>8,865.75</td>\n",
       "    </tr>\n",
       "    <tr>\n",
       "      <th>3</th>\n",
       "      <td>Texas</td>\n",
       "      <td>8,296.89</td>\n",
       "    </tr>\n",
       "    <tr>\n",
       "      <th>4</th>\n",
       "      <td>Massachusetts*</td>\n",
       "      <td>5,853.59</td>\n",
       "    </tr>\n",
       "    <tr>\n",
       "      <th>5</th>\n",
       "      <td>Ohio</td>\n",
       "      <td>5,628.99</td>\n",
       "    </tr>\n",
       "    <tr>\n",
       "      <th>6</th>\n",
       "      <td>Georgia</td>\n",
       "      <td>5,553.12</td>\n",
       "    </tr>\n",
       "    <tr>\n",
       "      <th>7</th>\n",
       "      <td>Pennsylvania</td>\n",
       "      <td>5,121.29</td>\n",
       "    </tr>\n",
       "  </tbody>\n",
       "</table>\n",
       "</div>"
      ],
      "text/plain": [
       "   Characteristic Sales in million U.S. dollars\n",
       "0        New York                     10,355.48\n",
       "1         Florida                      9,324.63\n",
       "2      California                      8,865.75\n",
       "3           Texas                      8,296.89\n",
       "4  Massachusetts*                      5,853.59\n",
       "5            Ohio                      5,628.99\n",
       "6         Georgia                      5,553.12\n",
       "7    Pennsylvania                      5,121.29"
      ]
     },
     "execution_count": 199,
     "metadata": {},
     "output_type": "execute_result"
    }
   ],
   "source": [
    "#This is a frame of how much sales of Powerball tickets in States\n",
    "df = pd.read_csv(r\"Lottery_Sales_Stats.csv\", encoding='latin-1')\n",
    "df.head(8)"
   ]
  },
  {
   "cell_type": "markdown",
   "id": "8ca9d493",
   "metadata": {},
   "source": [
    "### Data Cleaning Lottery Sales Stats"
   ]
  },
  {
   "cell_type": "code",
   "execution_count": 200,
   "id": "a937bdca",
   "metadata": {},
   "outputs": [],
   "source": [
    "#Switching Web Scrapers name from the stats site\n",
    "df = df.rename(columns={'Characteristic': 'States'})"
   ]
  },
  {
   "cell_type": "code",
   "execution_count": 201,
   "id": "589f1b7f",
   "metadata": {},
   "outputs": [],
   "source": [
    "#Couldn't convert to float astype because of commas \n",
    "df['Sales in million U.S. dollars'] = df['Sales in million U.S. dollars'].str.replace(',', '')"
   ]
  },
  {
   "cell_type": "code",
   "execution_count": 202,
   "id": "075cb193",
   "metadata": {
    "scrolled": true
   },
   "outputs": [],
   "source": [
    "#Converted to float\n",
    "df['Sales in million U.S. dollars'] = df['Sales in million U.S. dollars'].astype(float)"
   ]
  },
  {
   "cell_type": "markdown",
   "id": "395232a9",
   "metadata": {},
   "source": [
    "### Data Analysis Lottery Sales Stats"
   ]
  },
  {
   "cell_type": "code",
   "execution_count": 219,
   "id": "8a877801",
   "metadata": {},
   "outputs": [
    {
     "data": {
      "text/plain": [
       "0    25888.700\n",
       "1    23311.575\n",
       "2    22164.375\n",
       "3    20742.225\n",
       "4    14633.975\n",
       "5    14072.475\n",
       "6    13882.800\n",
       "7    12803.225\n",
       "Name: Sales in million U.S. dollars, dtype: float64"
      ]
     },
     "execution_count": 219,
     "metadata": {},
     "output_type": "execute_result"
    }
   ],
   "source": [
    "#Because only 80 cents on every 2 dollar ticket sold is given to states.  This is ACTUALLY how much is sold each\n",
    "#Year.  IN MILLIONS!!\n",
    "actual_amount_spent = df['Sales in million U.S. dollars'] / .4\n",
    "actual_amount_spent.head(8)"
   ]
  },
  {
   "cell_type": "code",
   "execution_count": 220,
   "id": "17b05ee3",
   "metadata": {
    "scrolled": false
   },
   "outputs": [
    {
     "data": {
      "text/plain": [
       "0    15533.220\n",
       "1    13986.945\n",
       "2    13298.625\n",
       "3    12445.335\n",
       "4     8780.385\n",
       "5     8443.485\n",
       "6     8329.680\n",
       "7     7681.935\n",
       "Name: Sales in million U.S. dollars, dtype: float64"
      ]
     },
     "execution_count": 220,
     "metadata": {},
     "output_type": "execute_result"
    }
   ],
   "source": [
    "# Amount earned for Multi-State Lottery Association.  IN MILLIONS!\n",
    "MSLA_Profit = actual_amount_spent * .6\n",
    "MSLA_Profit.head(8)"
   ]
  },
  {
   "cell_type": "markdown",
   "id": "089607dc",
   "metadata": {},
   "source": [
    "### Reading in Wealth Inequality CSV"
   ]
  },
  {
   "cell_type": "code",
   "execution_count": 205,
   "id": "aff93eed",
   "metadata": {
    "scrolled": true
   },
   "outputs": [
    {
     "data": {
      "text/html": [
       "<div>\n",
       "<style scoped>\n",
       "    .dataframe tbody tr th:only-of-type {\n",
       "        vertical-align: middle;\n",
       "    }\n",
       "\n",
       "    .dataframe tbody tr th {\n",
       "        vertical-align: top;\n",
       "    }\n",
       "\n",
       "    .dataframe thead th {\n",
       "        text-align: right;\n",
       "    }\n",
       "</style>\n",
       "<table border=\"1\" class=\"dataframe\">\n",
       "  <thead>\n",
       "    <tr style=\"text-align: right;\">\n",
       "      <th></th>\n",
       "      <th>Characteristic</th>\n",
       "      <th>Gini Coeffecient</th>\n",
       "    </tr>\n",
       "  </thead>\n",
       "  <tbody>\n",
       "    <tr>\n",
       "      <th>0</th>\n",
       "      <td>Puerto Rico</td>\n",
       "      <td>0.55</td>\n",
       "    </tr>\n",
       "    <tr>\n",
       "      <th>1</th>\n",
       "      <td>New York</td>\n",
       "      <td>0.52</td>\n",
       "    </tr>\n",
       "    <tr>\n",
       "      <th>2</th>\n",
       "      <td>District of Columbia</td>\n",
       "      <td>0.51</td>\n",
       "    </tr>\n",
       "    <tr>\n",
       "      <th>3</th>\n",
       "      <td>Connecticut</td>\n",
       "      <td>0.50</td>\n",
       "    </tr>\n",
       "    <tr>\n",
       "      <th>4</th>\n",
       "      <td>Massachusetts</td>\n",
       "      <td>0.50</td>\n",
       "    </tr>\n",
       "    <tr>\n",
       "      <th>5</th>\n",
       "      <td>California</td>\n",
       "      <td>0.50</td>\n",
       "    </tr>\n",
       "    <tr>\n",
       "      <th>6</th>\n",
       "      <td>Louisiana</td>\n",
       "      <td>0.49</td>\n",
       "    </tr>\n",
       "    <tr>\n",
       "      <th>7</th>\n",
       "      <td>Florida</td>\n",
       "      <td>0.49</td>\n",
       "    </tr>\n",
       "    <tr>\n",
       "      <th>8</th>\n",
       "      <td>Alabama</td>\n",
       "      <td>0.49</td>\n",
       "    </tr>\n",
       "    <tr>\n",
       "      <th>9</th>\n",
       "      <td>United States</td>\n",
       "      <td>0.49</td>\n",
       "    </tr>\n",
       "  </tbody>\n",
       "</table>\n",
       "</div>"
      ],
      "text/plain": [
       "         Characteristic  Gini Coeffecient\n",
       "0           Puerto Rico              0.55\n",
       "1              New York              0.52\n",
       "2  District of Columbia              0.51\n",
       "3           Connecticut              0.50\n",
       "4         Massachusetts              0.50\n",
       "5            California              0.50\n",
       "6             Louisiana              0.49\n",
       "7               Florida              0.49\n",
       "8               Alabama              0.49\n",
       "9         United States              0.49"
      ]
     },
     "execution_count": 205,
     "metadata": {},
     "output_type": "execute_result"
    }
   ],
   "source": [
    "df2 = pd.read_csv(r\"Wealth_Inequality.csv\", encoding='latin-1')\n",
    "df2.head(10)"
   ]
  },
  {
   "cell_type": "markdown",
   "id": "94868382",
   "metadata": {},
   "source": [
    "### Cleaning Wealth Inequality CSV File"
   ]
  },
  {
   "cell_type": "code",
   "execution_count": 221,
   "id": "0fc0dcaf",
   "metadata": {
    "scrolled": false
   },
   "outputs": [
    {
     "data": {
      "text/html": [
       "<div>\n",
       "<style scoped>\n",
       "    .dataframe tbody tr th:only-of-type {\n",
       "        vertical-align: middle;\n",
       "    }\n",
       "\n",
       "    .dataframe tbody tr th {\n",
       "        vertical-align: top;\n",
       "    }\n",
       "\n",
       "    .dataframe thead th {\n",
       "        text-align: right;\n",
       "    }\n",
       "</style>\n",
       "<table border=\"1\" class=\"dataframe\">\n",
       "  <thead>\n",
       "    <tr style=\"text-align: right;\">\n",
       "      <th></th>\n",
       "      <th>States</th>\n",
       "      <th>Gini Coeffecient</th>\n",
       "    </tr>\n",
       "  </thead>\n",
       "  <tbody>\n",
       "    <tr>\n",
       "      <th>0</th>\n",
       "      <td>New York</td>\n",
       "      <td>0.52</td>\n",
       "    </tr>\n",
       "    <tr>\n",
       "      <th>1</th>\n",
       "      <td>Connecticut</td>\n",
       "      <td>0.50</td>\n",
       "    </tr>\n",
       "    <tr>\n",
       "      <th>2</th>\n",
       "      <td>Massachusetts</td>\n",
       "      <td>0.50</td>\n",
       "    </tr>\n",
       "    <tr>\n",
       "      <th>3</th>\n",
       "      <td>California</td>\n",
       "      <td>0.50</td>\n",
       "    </tr>\n",
       "    <tr>\n",
       "      <th>4</th>\n",
       "      <td>Louisiana</td>\n",
       "      <td>0.49</td>\n",
       "    </tr>\n",
       "    <tr>\n",
       "      <th>5</th>\n",
       "      <td>Florida</td>\n",
       "      <td>0.49</td>\n",
       "    </tr>\n",
       "    <tr>\n",
       "      <th>6</th>\n",
       "      <td>Illinois</td>\n",
       "      <td>0.48</td>\n",
       "    </tr>\n",
       "    <tr>\n",
       "      <th>7</th>\n",
       "      <td>New Jersey</td>\n",
       "      <td>0.48</td>\n",
       "    </tr>\n",
       "  </tbody>\n",
       "</table>\n",
       "</div>"
      ],
      "text/plain": [
       "          States  Gini Coeffecient\n",
       "0       New York              0.52\n",
       "1    Connecticut              0.50\n",
       "2  Massachusetts              0.50\n",
       "3     California              0.50\n",
       "4      Louisiana              0.49\n",
       "5        Florida              0.49\n",
       "6       Illinois              0.48\n",
       "7     New Jersey              0.48"
      ]
     },
     "execution_count": 221,
     "metadata": {},
     "output_type": "execute_result"
    }
   ],
   "source": [
    "#Switching Web Scrapers name from the stats site\n",
    "df2 = df2.rename(columns={'Characteristic': 'States'})\n",
    "df2.head(8)"
   ]
  },
  {
   "cell_type": "code",
   "execution_count": 207,
   "id": "95591a31",
   "metadata": {
    "scrolled": true
   },
   "outputs": [],
   "source": [
    "df2.drop([0,2,8,9,23,39,51,52], axis=0, inplace=True)"
   ]
  },
  {
   "cell_type": "code",
   "execution_count": 208,
   "id": "b1304988",
   "metadata": {
    "scrolled": true
   },
   "outputs": [],
   "source": [
    "#Reindexing\n",
    "df2 = df2.iloc[0:]\n",
    "\n",
    "df2 = df2.reset_index(drop=True)"
   ]
  },
  {
   "cell_type": "markdown",
   "id": "4219a65a",
   "metadata": {},
   "source": [
    "### Wealth Inequality Graph"
   ]
  },
  {
   "cell_type": "code",
   "execution_count": 248,
   "id": "b3802f8e",
   "metadata": {},
   "outputs": [
    {
     "data": {
      "image/png": "[encoded data removed]",
      "text/plain": [
       "<Figure size 2000x200 with 1 Axes>"
      ]
     },
     "metadata": {},
     "output_type": "display_data"
    }
   ],
   "source": [
    "x = df2['States']\n",
    "y = df2['Gini Coeffecient']\n",
    "\n",
    "fig = plt.figure(figsize=(20, 2))\n",
    "ax = fig.add_subplot(111)\n",
    "ax.plot(x, y)\n",
    "\n",
    "plt.title(\"Wealth Inequality\")\n",
    "plt.xlabel(\"States\")\n",
    "plt.ylabel(\"Gini Coeffecient\")\n",
    "\n",
    "plt.xticks(rotation=45)\n",
    "plt.ylim(min(y) * 0.9, max(y) * 1.1)\n",
    "\n",
    "plt.show()"
   ]
  },
  {
   "cell_type": "markdown",
   "id": "39ecc466",
   "metadata": {},
   "source": [
    "#### Converting Dataframes cleaned back to CSV to join in SQLite"
   ]
  },
  {
   "cell_type": "code",
   "execution_count": 209,
   "id": "7ac51ab0",
   "metadata": {},
   "outputs": [],
   "source": [
    "# df.to_csv('Clean_Lottery_Sales_Stats.csv')\n",
    "# df2.to_csv('Clean_Wealth_Inequality.csv')"
   ]
  },
  {
   "cell_type": "markdown",
   "id": "a38a1429",
   "metadata": {},
   "source": [
    "### Processing Joined SQLite table into a Dataframe"
   ]
  },
  {
   "cell_type": "code",
   "execution_count": 210,
   "id": "35c9eb09",
   "metadata": {},
   "outputs": [],
   "source": [
    "conn = sqlite3.connect('Powerball_Wealth_Inequality.db')\n",
    "cursor = conn.cursor()\n",
    "cursor.execute('SELECT * FROM Joined_Wealth_Inequality')\n",
    "conn.commit()\n",
    "results = cursor.fetchall()\n",
    "for row in results:\n",
    "    data = []\n",
    "    for row in results:\n",
    "        data.append(row[:47])\n",
    "    df3 = pd.DataFrame(data)\n",
    "\n",
    "conn.close()"
   ]
  },
  {
   "cell_type": "markdown",
   "id": "3eb6d524",
   "metadata": {},
   "source": [
    "### Cleaning SQLite Powerball Wealth Inequality File"
   ]
  },
  {
   "cell_type": "code",
   "execution_count": 211,
   "id": "f352b43a",
   "metadata": {
    "scrolled": true
   },
   "outputs": [
    {
     "data": {
      "text/html": [
       "<div>\n",
       "<style scoped>\n",
       "    .dataframe tbody tr th:only-of-type {\n",
       "        vertical-align: middle;\n",
       "    }\n",
       "\n",
       "    .dataframe tbody tr th {\n",
       "        vertical-align: top;\n",
       "    }\n",
       "\n",
       "    .dataframe thead th {\n",
       "        text-align: right;\n",
       "    }\n",
       "</style>\n",
       "<table border=\"1\" class=\"dataframe\">\n",
       "  <thead>\n",
       "    <tr style=\"text-align: right;\">\n",
       "      <th></th>\n",
       "      <th>Index_Inequality</th>\n",
       "      <th>State_Inequality</th>\n",
       "      <th>Gini_Coeffecient</th>\n",
       "      <th>Index_Sales</th>\n",
       "      <th>State_Sales</th>\n",
       "      <th>Amount_Sales(In Millions)</th>\n",
       "    </tr>\n",
       "  </thead>\n",
       "  <tbody>\n",
       "    <tr>\n",
       "      <th>0</th>\n",
       "      <td>0</td>\n",
       "      <td>New York</td>\n",
       "      <td>0.52</td>\n",
       "      <td>0</td>\n",
       "      <td>New York</td>\n",
       "      <td>10355.48</td>\n",
       "    </tr>\n",
       "    <tr>\n",
       "      <th>1</th>\n",
       "      <td>1</td>\n",
       "      <td>Connecticut</td>\n",
       "      <td>0.5</td>\n",
       "      <td>20</td>\n",
       "      <td>Connecticut</td>\n",
       "      <td>1462.81</td>\n",
       "    </tr>\n",
       "    <tr>\n",
       "      <th>2</th>\n",
       "      <td>3</td>\n",
       "      <td>California</td>\n",
       "      <td>0.5</td>\n",
       "      <td>2</td>\n",
       "      <td>California</td>\n",
       "      <td>8865.75</td>\n",
       "    </tr>\n",
       "    <tr>\n",
       "      <th>3</th>\n",
       "      <td>4</td>\n",
       "      <td>Louisiana</td>\n",
       "      <td>0.49</td>\n",
       "      <td>29</td>\n",
       "      <td>Louisiana</td>\n",
       "      <td>582.93</td>\n",
       "    </tr>\n",
       "    <tr>\n",
       "      <th>4</th>\n",
       "      <td>5</td>\n",
       "      <td>Florida</td>\n",
       "      <td>0.49</td>\n",
       "      <td>1</td>\n",
       "      <td>Florida</td>\n",
       "      <td>9324.63</td>\n",
       "    </tr>\n",
       "    <tr>\n",
       "      <th>5</th>\n",
       "      <td>6</td>\n",
       "      <td>Illinois</td>\n",
       "      <td>0.48</td>\n",
       "      <td>12</td>\n",
       "      <td>Illinois</td>\n",
       "      <td>3396.28</td>\n",
       "    </tr>\n",
       "    <tr>\n",
       "      <th>6</th>\n",
       "      <td>7</td>\n",
       "      <td>New Jersey</td>\n",
       "      <td>0.48</td>\n",
       "      <td>11</td>\n",
       "      <td>New Jersey</td>\n",
       "      <td>3634.15</td>\n",
       "    </tr>\n",
       "    <tr>\n",
       "      <th>7</th>\n",
       "      <td>8</td>\n",
       "      <td>West Virginia</td>\n",
       "      <td>0.48</td>\n",
       "      <td>21</td>\n",
       "      <td>West Virginia</td>\n",
       "      <td>1382.74</td>\n",
       "    </tr>\n",
       "  </tbody>\n",
       "</table>\n",
       "</div>"
      ],
      "text/plain": [
       "  Index_Inequality State_Inequality Gini_Coeffecient Index_Sales  \\\n",
       "0                0         New York             0.52           0   \n",
       "1                1      Connecticut              0.5          20   \n",
       "2                3       California              0.5           2   \n",
       "3                4        Louisiana             0.49          29   \n",
       "4                5          Florida             0.49           1   \n",
       "5                6         Illinois             0.48          12   \n",
       "6                7       New Jersey             0.48          11   \n",
       "7                8    West Virginia             0.48          21   \n",
       "\n",
       "     State_Sales Amount_Sales(In Millions)  \n",
       "0       New York                  10355.48  \n",
       "1    Connecticut                   1462.81  \n",
       "2     California                   8865.75  \n",
       "3      Louisiana                    582.93  \n",
       "4        Florida                   9324.63  \n",
       "5       Illinois                   3396.28  \n",
       "6     New Jersey                   3634.15  \n",
       "7  West Virginia                   1382.74  "
      ]
     },
     "execution_count": 211,
     "metadata": {},
     "output_type": "execute_result"
    }
   ],
   "source": [
    "df3.columns = ['Index_Inequality', 'State_Inequality', 'Gini_Coeffecient', 'Index_Sales', 'State_Sales', 'Amount_Sales(In Millions)']\n",
    "df3.head(8)"
   ]
  },
  {
   "cell_type": "markdown",
   "id": "5412755d",
   "metadata": {},
   "source": [
    "### Reading in Poverty by States CSV File"
   ]
  },
  {
   "cell_type": "code",
   "execution_count": 212,
   "id": "29c9c0dd",
   "metadata": {
    "scrolled": true
   },
   "outputs": [
    {
     "data": {
      "text/html": [
       "<div>\n",
       "<style scoped>\n",
       "    .dataframe tbody tr th:only-of-type {\n",
       "        vertical-align: middle;\n",
       "    }\n",
       "\n",
       "    .dataframe tbody tr th {\n",
       "        vertical-align: top;\n",
       "    }\n",
       "\n",
       "    .dataframe thead th {\n",
       "        text-align: right;\n",
       "    }\n",
       "</style>\n",
       "<table border=\"1\" class=\"dataframe\">\n",
       "  <thead>\n",
       "    <tr style=\"text-align: right;\">\n",
       "      <th></th>\n",
       "      <th>State or territory</th>\n",
       "      <th>Population</th>\n",
       "      <th>Population underpoverty line</th>\n",
       "      <th>Poverty rate</th>\n",
       "    </tr>\n",
       "  </thead>\n",
       "  <tbody>\n",
       "    <tr>\n",
       "      <th>0</th>\n",
       "      <td>Puerto Rico</td>\n",
       "      <td>3,227,457</td>\n",
       "      <td>1,400,958</td>\n",
       "      <td>43.41%</td>\n",
       "    </tr>\n",
       "    <tr>\n",
       "      <th>1</th>\n",
       "      <td>Mississippi</td>\n",
       "      <td>2,883,074</td>\n",
       "      <td>564,439</td>\n",
       "      <td>19.58%</td>\n",
       "    </tr>\n",
       "    <tr>\n",
       "      <th>2</th>\n",
       "      <td>Louisiana</td>\n",
       "      <td>4,532,187</td>\n",
       "      <td>845,230</td>\n",
       "      <td>18.65%</td>\n",
       "    </tr>\n",
       "    <tr>\n",
       "      <th>3</th>\n",
       "      <td>New Mexico</td>\n",
       "      <td>2,053,909</td>\n",
       "      <td>381,026</td>\n",
       "      <td>18.55%</td>\n",
       "    </tr>\n",
       "    <tr>\n",
       "      <th>4</th>\n",
       "      <td>West Virginia</td>\n",
       "      <td>1,755,591</td>\n",
       "      <td>300,152</td>\n",
       "      <td>17.10%</td>\n",
       "    </tr>\n",
       "    <tr>\n",
       "      <th>5</th>\n",
       "      <td>Kentucky</td>\n",
       "      <td>4,322,881</td>\n",
       "      <td>717,895</td>\n",
       "      <td>16.61%</td>\n",
       "    </tr>\n",
       "    <tr>\n",
       "      <th>6</th>\n",
       "      <td>Arkansas</td>\n",
       "      <td>2,923,585</td>\n",
       "      <td>470,190</td>\n",
       "      <td>16.08%</td>\n",
       "    </tr>\n",
       "    <tr>\n",
       "      <th>7</th>\n",
       "      <td>Alabama</td>\n",
       "      <td>4,771,614</td>\n",
       "      <td>762,642</td>\n",
       "      <td>15.98%</td>\n",
       "    </tr>\n",
       "  </tbody>\n",
       "</table>\n",
       "</div>"
      ],
      "text/plain": [
       "  State or territory Population Population underpoverty line Poverty rate\n",
       "0        Puerto Rico  3,227,457                    1,400,958       43.41%\n",
       "1        Mississippi  2,883,074                      564,439       19.58%\n",
       "2          Louisiana  4,532,187                      845,230       18.65%\n",
       "3         New Mexico  2,053,909                      381,026       18.55%\n",
       "4      West Virginia  1,755,591                      300,152       17.10%\n",
       "5           Kentucky  4,322,881                      717,895       16.61%\n",
       "6           Arkansas  2,923,585                      470,190       16.08%\n",
       "7            Alabama  4,771,614                      762,642       15.98%"
      ]
     },
     "execution_count": 212,
     "metadata": {},
     "output_type": "execute_result"
    }
   ],
   "source": [
    "# Poverty Rate by State CSV, read in to get a look at what's going on.  Going to join this and other cleaned\n",
    "# CSV into the same table in SQL to import back\n",
    "df4 = pd.read_csv(r\"Poverty_States.csv\", encoding='latin-1')\n",
    "df4.head(8)"
   ]
  },
  {
   "cell_type": "markdown",
   "id": "5285aad5",
   "metadata": {},
   "source": [
    "### Reading in SQLite Database to convert into Dataframe"
   ]
  },
  {
   "cell_type": "code",
   "execution_count": 213,
   "id": "4376cdbd",
   "metadata": {},
   "outputs": [],
   "source": [
    "conn = sqlite3.connect('Poverty_Database.db')\n",
    "cursor = conn.cursor()\n",
    "cursor.execute('SELECT * FROM Joined_Poverty')\n",
    "conn.commit()\n",
    "results = cursor.fetchall()\n",
    "for row in results:\n",
    "    data = []\n",
    "    for row in results:\n",
    "        data.append(row[:47])\n",
    "    df5 = pd.DataFrame(data)\n",
    "\n",
    "conn.close()"
   ]
  },
  {
   "cell_type": "code",
   "execution_count": 214,
   "id": "3359b765",
   "metadata": {
    "scrolled": false
   },
   "outputs": [
    {
     "data": {
      "text/html": [
       "<div>\n",
       "<style scoped>\n",
       "    .dataframe tbody tr th:only-of-type {\n",
       "        vertical-align: middle;\n",
       "    }\n",
       "\n",
       "    .dataframe tbody tr th {\n",
       "        vertical-align: top;\n",
       "    }\n",
       "\n",
       "    .dataframe thead th {\n",
       "        text-align: right;\n",
       "    }\n",
       "</style>\n",
       "<table border=\"1\" class=\"dataframe\">\n",
       "  <thead>\n",
       "    <tr style=\"text-align: right;\">\n",
       "      <th></th>\n",
       "      <th>0</th>\n",
       "      <th>1</th>\n",
       "      <th>2</th>\n",
       "      <th>3</th>\n",
       "      <th>4</th>\n",
       "      <th>5</th>\n",
       "      <th>6</th>\n",
       "    </tr>\n",
       "  </thead>\n",
       "  <tbody>\n",
       "    <tr>\n",
       "      <th>0</th>\n",
       "      <td>0</td>\n",
       "      <td>New York</td>\n",
       "      <td>10355.48</td>\n",
       "      <td>New York</td>\n",
       "      <td>19,009,098</td>\n",
       "      <td>2,581,048</td>\n",
       "      <td>13.58%</td>\n",
       "    </tr>\n",
       "    <tr>\n",
       "      <th>1</th>\n",
       "      <td>1</td>\n",
       "      <td>Florida</td>\n",
       "      <td>9324.63</td>\n",
       "      <td>Florida</td>\n",
       "      <td>20,793,628</td>\n",
       "      <td>2,772,939</td>\n",
       "      <td>13.34%</td>\n",
       "    </tr>\n",
       "    <tr>\n",
       "      <th>2</th>\n",
       "      <td>2</td>\n",
       "      <td>California</td>\n",
       "      <td>8865.75</td>\n",
       "      <td>California</td>\n",
       "      <td>38,589,882</td>\n",
       "      <td>4,853,434</td>\n",
       "      <td>12.58%</td>\n",
       "    </tr>\n",
       "    <tr>\n",
       "      <th>3</th>\n",
       "      <td>3</td>\n",
       "      <td>Texas</td>\n",
       "      <td>8296.89</td>\n",
       "      <td>Texas</td>\n",
       "      <td>28,013,446</td>\n",
       "      <td>3,984,260</td>\n",
       "      <td>14.22%</td>\n",
       "    </tr>\n",
       "    <tr>\n",
       "      <th>4</th>\n",
       "      <td>5</td>\n",
       "      <td>Ohio</td>\n",
       "      <td>5628.99</td>\n",
       "      <td>Ohio</td>\n",
       "      <td>11,350,378</td>\n",
       "      <td>1,546,011</td>\n",
       "      <td>13.62%</td>\n",
       "    </tr>\n",
       "  </tbody>\n",
       "</table>\n",
       "</div>"
      ],
      "text/plain": [
       "   0           1         2           3           4          5       6\n",
       "0  0    New York  10355.48    New York  19,009,098  2,581,048  13.58%\n",
       "1  1     Florida   9324.63     Florida  20,793,628  2,772,939  13.34%\n",
       "2  2  California   8865.75  California  38,589,882  4,853,434  12.58%\n",
       "3  3       Texas   8296.89       Texas  28,013,446  3,984,260  14.22%\n",
       "4  5        Ohio   5628.99        Ohio  11,350,378  1,546,011  13.62%"
      ]
     },
     "execution_count": 214,
     "metadata": {},
     "output_type": "execute_result"
    }
   ],
   "source": [
    "df5.head(5)"
   ]
  },
  {
   "cell_type": "markdown",
   "id": "17e876a2",
   "metadata": {},
   "source": [
    "### Cleaning SQLite Poverty DB"
   ]
  },
  {
   "cell_type": "code",
   "execution_count": 222,
   "id": "5657ff93",
   "metadata": {
    "scrolled": false
   },
   "outputs": [
    {
     "data": {
      "text/html": [
       "<div>\n",
       "<style scoped>\n",
       "    .dataframe tbody tr th:only-of-type {\n",
       "        vertical-align: middle;\n",
       "    }\n",
       "\n",
       "    .dataframe tbody tr th {\n",
       "        vertical-align: top;\n",
       "    }\n",
       "\n",
       "    .dataframe thead th {\n",
       "        text-align: right;\n",
       "    }\n",
       "</style>\n",
       "<table border=\"1\" class=\"dataframe\">\n",
       "  <thead>\n",
       "    <tr style=\"text-align: right;\">\n",
       "      <th></th>\n",
       "      <th>State_Index</th>\n",
       "      <th>States_Sales</th>\n",
       "      <th>Sales_Amount(In_Millions)</th>\n",
       "      <th>State_Poverty_Table</th>\n",
       "      <th>Population_Poverty</th>\n",
       "      <th>Pop_Under_Poverty_Line</th>\n",
       "      <th>Poverty_Rate</th>\n",
       "    </tr>\n",
       "  </thead>\n",
       "  <tbody>\n",
       "    <tr>\n",
       "      <th>0</th>\n",
       "      <td>0</td>\n",
       "      <td>New York</td>\n",
       "      <td>10355.48</td>\n",
       "      <td>New York</td>\n",
       "      <td>19,009,098</td>\n",
       "      <td>2,581,048</td>\n",
       "      <td>13.58</td>\n",
       "    </tr>\n",
       "    <tr>\n",
       "      <th>1</th>\n",
       "      <td>1</td>\n",
       "      <td>Florida</td>\n",
       "      <td>9324.63</td>\n",
       "      <td>Florida</td>\n",
       "      <td>20,793,628</td>\n",
       "      <td>2,772,939</td>\n",
       "      <td>13.34</td>\n",
       "    </tr>\n",
       "    <tr>\n",
       "      <th>2</th>\n",
       "      <td>2</td>\n",
       "      <td>California</td>\n",
       "      <td>8865.75</td>\n",
       "      <td>California</td>\n",
       "      <td>38,589,882</td>\n",
       "      <td>4,853,434</td>\n",
       "      <td>12.58</td>\n",
       "    </tr>\n",
       "    <tr>\n",
       "      <th>3</th>\n",
       "      <td>3</td>\n",
       "      <td>Texas</td>\n",
       "      <td>8296.89</td>\n",
       "      <td>Texas</td>\n",
       "      <td>28,013,446</td>\n",
       "      <td>3,984,260</td>\n",
       "      <td>14.22</td>\n",
       "    </tr>\n",
       "    <tr>\n",
       "      <th>4</th>\n",
       "      <td>5</td>\n",
       "      <td>Ohio</td>\n",
       "      <td>5628.99</td>\n",
       "      <td>Ohio</td>\n",
       "      <td>11,350,378</td>\n",
       "      <td>1,546,011</td>\n",
       "      <td>13.62</td>\n",
       "    </tr>\n",
       "    <tr>\n",
       "      <th>5</th>\n",
       "      <td>6</td>\n",
       "      <td>Georgia</td>\n",
       "      <td>5553.12</td>\n",
       "      <td>Georgia</td>\n",
       "      <td>10,238,369</td>\n",
       "      <td>1,461,572</td>\n",
       "      <td>14.28</td>\n",
       "    </tr>\n",
       "    <tr>\n",
       "      <th>6</th>\n",
       "      <td>7</td>\n",
       "      <td>Pennsylvania</td>\n",
       "      <td>5121.29</td>\n",
       "      <td>Pennsylvania</td>\n",
       "      <td>12,387,061</td>\n",
       "      <td>1,480,430</td>\n",
       "      <td>11.95</td>\n",
       "    </tr>\n",
       "    <tr>\n",
       "      <th>7</th>\n",
       "      <td>8</td>\n",
       "      <td>Michigan</td>\n",
       "      <td>4896.85</td>\n",
       "      <td>Michigan</td>\n",
       "      <td>9,753,541</td>\n",
       "      <td>1,337,256</td>\n",
       "      <td>13.71</td>\n",
       "    </tr>\n",
       "  </tbody>\n",
       "</table>\n",
       "</div>"
      ],
      "text/plain": [
       "  State_Index  States_Sales Sales_Amount(In_Millions) State_Poverty_Table  \\\n",
       "0           0      New York                  10355.48            New York   \n",
       "1           1       Florida                   9324.63             Florida   \n",
       "2           2    California                   8865.75          California   \n",
       "3           3         Texas                   8296.89               Texas   \n",
       "4           5          Ohio                   5628.99                Ohio   \n",
       "5           6       Georgia                   5553.12             Georgia   \n",
       "6           7  Pennsylvania                   5121.29        Pennsylvania   \n",
       "7           8      Michigan                   4896.85            Michigan   \n",
       "\n",
       "  Population_Poverty Pop_Under_Poverty_Line  Poverty_Rate  \n",
       "0         19,009,098              2,581,048         13.58  \n",
       "1         20,793,628              2,772,939         13.34  \n",
       "2         38,589,882              4,853,434         12.58  \n",
       "3         28,013,446              3,984,260         14.22  \n",
       "4         11,350,378              1,546,011         13.62  \n",
       "5         10,238,369              1,461,572         14.28  \n",
       "6         12,387,061              1,480,430         11.95  \n",
       "7          9,753,541              1,337,256         13.71  "
      ]
     },
     "execution_count": 222,
     "metadata": {},
     "output_type": "execute_result"
    }
   ],
   "source": [
    "df5.columns = ['State_Index', 'States_Sales', 'Sales_Amount(In_Millions)', 'State_Poverty_Table', 'Population_Poverty', 'Pop_Under_Poverty_Line', 'Poverty_Rate']\n",
    "df5.head(8)"
   ]
  },
  {
   "cell_type": "code",
   "execution_count": 216,
   "id": "47a6daa2",
   "metadata": {},
   "outputs": [],
   "source": [
    "# Dropped D.C.\n",
    "df5.drop([37], axis=0, inplace=True)"
   ]
  },
  {
   "cell_type": "code",
   "execution_count": 217,
   "id": "192fc048",
   "metadata": {},
   "outputs": [],
   "source": [
    "poverty_float = df5['Poverty_Rate'].str.rstrip('%').astype(float)\n",
    "df5['Poverty_Rate'] = poverty_float"
   ]
  },
  {
   "cell_type": "code",
   "execution_count": 218,
   "id": "a9811779",
   "metadata": {
    "scrolled": false
   },
   "outputs": [
    {
     "data": {
      "text/html": [
       "<div>\n",
       "<style scoped>\n",
       "    .dataframe tbody tr th:only-of-type {\n",
       "        vertical-align: middle;\n",
       "    }\n",
       "\n",
       "    .dataframe tbody tr th {\n",
       "        vertical-align: top;\n",
       "    }\n",
       "\n",
       "    .dataframe thead th {\n",
       "        text-align: right;\n",
       "    }\n",
       "</style>\n",
       "<table border=\"1\" class=\"dataframe\">\n",
       "  <thead>\n",
       "    <tr style=\"text-align: right;\">\n",
       "      <th></th>\n",
       "      <th>State_Index</th>\n",
       "      <th>States_Sales</th>\n",
       "      <th>Sales_Amount(In_Millions)</th>\n",
       "      <th>State_Poverty_Table</th>\n",
       "      <th>Population_Poverty</th>\n",
       "      <th>Pop_Under_Poverty_Line</th>\n",
       "      <th>Poverty_Rate</th>\n",
       "    </tr>\n",
       "  </thead>\n",
       "  <tbody>\n",
       "    <tr>\n",
       "      <th>30</th>\n",
       "      <td>32</td>\n",
       "      <td>Mississippi</td>\n",
       "      <td>432.86</td>\n",
       "      <td>Mississippi</td>\n",
       "      <td>2,883,074</td>\n",
       "      <td>564,439</td>\n",
       "      <td>19.58</td>\n",
       "    </tr>\n",
       "    <tr>\n",
       "      <th>27</th>\n",
       "      <td>29</td>\n",
       "      <td>Louisiana</td>\n",
       "      <td>582.93</td>\n",
       "      <td>Louisiana</td>\n",
       "      <td>4,532,187</td>\n",
       "      <td>845,230</td>\n",
       "      <td>18.65</td>\n",
       "    </tr>\n",
       "    <tr>\n",
       "      <th>40</th>\n",
       "      <td>42</td>\n",
       "      <td>New Mexico</td>\n",
       "      <td>136.87</td>\n",
       "      <td>New Mexico</td>\n",
       "      <td>2,053,909</td>\n",
       "      <td>381,026</td>\n",
       "      <td>18.55</td>\n",
       "    </tr>\n",
       "    <tr>\n",
       "      <th>20</th>\n",
       "      <td>21</td>\n",
       "      <td>West Virginia</td>\n",
       "      <td>1382.74</td>\n",
       "      <td>West Virginia</td>\n",
       "      <td>1,755,591</td>\n",
       "      <td>300,152</td>\n",
       "      <td>17.10</td>\n",
       "    </tr>\n",
       "    <tr>\n",
       "      <th>18</th>\n",
       "      <td>19</td>\n",
       "      <td>Kentucky</td>\n",
       "      <td>1480.43</td>\n",
       "      <td>Kentucky</td>\n",
       "      <td>4,322,881</td>\n",
       "      <td>717,895</td>\n",
       "      <td>16.61</td>\n",
       "    </tr>\n",
       "    <tr>\n",
       "      <th>28</th>\n",
       "      <td>30</td>\n",
       "      <td>Arkansas</td>\n",
       "      <td>579.56</td>\n",
       "      <td>Arkansas</td>\n",
       "      <td>2,923,585</td>\n",
       "      <td>470,190</td>\n",
       "      <td>16.08</td>\n",
       "    </tr>\n",
       "    <tr>\n",
       "      <th>35</th>\n",
       "      <td>37</td>\n",
       "      <td>Oklahoma</td>\n",
       "      <td>350.34</td>\n",
       "      <td>Oklahoma</td>\n",
       "      <td>3,833,712</td>\n",
       "      <td>585,520</td>\n",
       "      <td>15.27</td>\n",
       "    </tr>\n",
       "    <tr>\n",
       "      <th>13</th>\n",
       "      <td>14</td>\n",
       "      <td>South Carolina</td>\n",
       "      <td>2253.56</td>\n",
       "      <td>South Carolina</td>\n",
       "      <td>4,950,181</td>\n",
       "      <td>726,470</td>\n",
       "      <td>14.68</td>\n",
       "    </tr>\n",
       "    <tr>\n",
       "      <th>14</th>\n",
       "      <td>15</td>\n",
       "      <td>Tennessee</td>\n",
       "      <td>2027.34</td>\n",
       "      <td>Tennessee</td>\n",
       "      <td>6,603,468</td>\n",
       "      <td>965,213</td>\n",
       "      <td>14.62</td>\n",
       "    </tr>\n",
       "    <tr>\n",
       "      <th>5</th>\n",
       "      <td>6</td>\n",
       "      <td>Georgia</td>\n",
       "      <td>5553.12</td>\n",
       "      <td>Georgia</td>\n",
       "      <td>10,238,369</td>\n",
       "      <td>1,461,572</td>\n",
       "      <td>14.28</td>\n",
       "    </tr>\n",
       "  </tbody>\n",
       "</table>\n",
       "</div>"
      ],
      "text/plain": [
       "   State_Index    States_Sales Sales_Amount(In_Millions) State_Poverty_Table  \\\n",
       "30          32     Mississippi                    432.86         Mississippi   \n",
       "27          29       Louisiana                    582.93           Louisiana   \n",
       "40          42      New Mexico                    136.87          New Mexico   \n",
       "20          21   West Virginia                   1382.74       West Virginia   \n",
       "18          19        Kentucky                   1480.43            Kentucky   \n",
       "28          30        Arkansas                    579.56            Arkansas   \n",
       "35          37        Oklahoma                    350.34            Oklahoma   \n",
       "13          14  South Carolina                   2253.56      South Carolina   \n",
       "14          15       Tennessee                   2027.34           Tennessee   \n",
       "5            6         Georgia                   5553.12             Georgia   \n",
       "\n",
       "   Population_Poverty Pop_Under_Poverty_Line  Poverty_Rate  \n",
       "30          2,883,074                564,439         19.58  \n",
       "27          4,532,187                845,230         18.65  \n",
       "40          2,053,909                381,026         18.55  \n",
       "20          1,755,591                300,152         17.10  \n",
       "18          4,322,881                717,895         16.61  \n",
       "28          2,923,585                470,190         16.08  \n",
       "35          3,833,712                585,520         15.27  \n",
       "13          4,950,181                726,470         14.68  \n",
       "14          6,603,468                965,213         14.62  \n",
       "5          10,238,369              1,461,572         14.28  "
      ]
     },
     "execution_count": 218,
     "metadata": {},
     "output_type": "execute_result"
    }
   ],
   "source": [
    "poverty = df5.sort_values(by=['Poverty_Rate'], ascending=False)\n",
    "poverty.head(10)"
   ]
  },
  {
   "cell_type": "markdown",
   "id": "54bf2f4e",
   "metadata": {},
   "source": [
    "####  Above is a Joined Table sorted by the Poverty Rate.  There is the Index on the left for the States Sales showing their order of most Sales Amounts.  By looking at this, we can see that the states that sell the most Powerball Tickets are not as in line with the States with the most Poverty.  This leads me to conclude that Poverty isn't the main driving factor to people buying powerball tickets.  Because the Poverty Inequality (Gini Coefficient Table) is closer in line with the Sales Values by States.\n",
    "\n",
    "#### This leads me to believe that the States that buy the most Powerball Tickets are in places where there are many Rich people around Poor people more often.  I imagine that being poor and seeing people with all these nice things more often is the main driving force that leads people to buy Powerball tickets.  "
   ]
  },
  {
   "cell_type": "code",
   "execution_count": 223,
   "id": "7bf5d85a",
   "metadata": {},
   "outputs": [],
   "source": [
    "#df3.to_csv('Gini_Sales.csv')"
   ]
  }
 ],
 "metadata": {
  "kernelspec": {
   "display_name": "Python 3 (ipykernel)",
   "language": "python",
   "name": "python3"
  },
  "language_info": {
   "codemirror_mode": {
    "name": "ipython",
    "version": 3
   },
   "file_extension": ".py",
   "mimetype": "text/x-python",
   "name": "python",
   "nbconvert_exporter": "python",
   "pygments_lexer": "ipython3",
   "version": "3.10.9"
  }
 },
 "nbformat": 4,
 "nbformat_minor": 5
}

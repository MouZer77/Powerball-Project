{
 "cells": [
  {
   "cell_type": "markdown",
   "id": "77ffd22f",
   "metadata": {},
   "source": [
    "## Data Exploration for Powerball Analysis\n",
    "\n",
    "In this section, we are going to be going through some of the data to find insights on what all these numbers and stats really mean.  "
   ]
  },
  {
   "cell_type": "code",
   "execution_count": 287,
   "id": "32ad26b9",
   "metadata": {},
   "outputs": [],
   "source": [
    "import pandas as pd\n",
    "import numpy as np\n",
    "import matplotlib.pylab as plt\n",
    "import seaborn as sns\n",
    "plt.style.use('ggplot')\n",
    "import re #For reference, re is regular expression support and can be used to search for patterns in STR's\n",
    "import requests\n",
    "from bs4 import BeautifulSoup\n",
    "import re"
   ]
  },
  {
   "cell_type": "markdown",
   "id": "346308b8",
   "metadata": {},
   "source": [
    "### Reading in Powerball CSV file"
   ]
  },
  {
   "cell_type": "code",
   "execution_count": 288,
   "id": "c77747a7",
   "metadata": {
    "scrolled": true
   },
   "outputs": [
    {
     "data": {
      "text/html": [
       "<div>\n",
       "<style scoped>\n",
       "    .dataframe tbody tr th:only-of-type {\n",
       "        vertical-align: middle;\n",
       "    }\n",
       "\n",
       "    .dataframe tbody tr th {\n",
       "        vertical-align: top;\n",
       "    }\n",
       "\n",
       "    .dataframe thead th {\n",
       "        text-align: right;\n",
       "    }\n",
       "</style>\n",
       "<table border=\"1\" class=\"dataframe\">\n",
       "  <thead>\n",
       "    <tr style=\"text-align: right;\">\n",
       "      <th></th>\n",
       "      <th>#</th>\n",
       "      <th>Draw Date</th>\n",
       "      <th>Jackpot Prize</th>\n",
       "      <th>Winner</th>\n",
       "      <th>State</th>\n",
       "    </tr>\n",
       "  </thead>\n",
       "  <tbody>\n",
       "    <tr>\n",
       "      <th>0</th>\n",
       "      <td>1</td>\n",
       "      <td>February 01, 2003</td>\n",
       "      <td>$101 million</td>\n",
       "      <td>Rondal Eaton</td>\n",
       "      <td>Indiana</td>\n",
       "    </tr>\n",
       "    <tr>\n",
       "      <th>1</th>\n",
       "      <td>Watertown 34</td>\n",
       "      <td>South Dakota</td>\n",
       "      <td>NaN</td>\n",
       "      <td>NaN</td>\n",
       "      <td>NaN</td>\n",
       "    </tr>\n",
       "    <tr>\n",
       "      <th>2</th>\n",
       "      <td>2</td>\n",
       "      <td>February 22, 2003</td>\n",
       "      <td>$42 million</td>\n",
       "      <td>Cello Investments, LLC</td>\n",
       "      <td>Louisiana</td>\n",
       "    </tr>\n",
       "    <tr>\n",
       "      <th>3</th>\n",
       "      <td>Milton and Ethel Schroeder</td>\n",
       "      <td>Missouri</td>\n",
       "      <td>NaN</td>\n",
       "      <td>NaN</td>\n",
       "      <td>NaN</td>\n",
       "    </tr>\n",
       "    <tr>\n",
       "      <th>4</th>\n",
       "      <td>3</td>\n",
       "      <td>March 26, 2003</td>\n",
       "      <td>$62.4 million</td>\n",
       "      <td>Hobert &amp; Mary Parnell</td>\n",
       "      <td>West Virginia</td>\n",
       "    </tr>\n",
       "    <tr>\n",
       "      <th>5</th>\n",
       "      <td>4</td>\n",
       "      <td>May 07, 2003</td>\n",
       "      <td>$88.7 million</td>\n",
       "      <td>Anthony and Monica Wilson</td>\n",
       "      <td>South Carolina</td>\n",
       "    </tr>\n",
       "    <tr>\n",
       "      <th>6</th>\n",
       "      <td>5</td>\n",
       "      <td>July 09, 2003</td>\n",
       "      <td>$261.3 million</td>\n",
       "      <td>William and Claudia Walkenbach</td>\n",
       "      <td>Missouri</td>\n",
       "    </tr>\n",
       "    <tr>\n",
       "      <th>7</th>\n",
       "      <td>Scott and Marian Calligan</td>\n",
       "      <td>Pennsylvania</td>\n",
       "      <td>NaN</td>\n",
       "      <td>NaN</td>\n",
       "      <td>NaN</td>\n",
       "    </tr>\n",
       "  </tbody>\n",
       "</table>\n",
       "</div>"
      ],
      "text/plain": [
       "                            #          Draw Date   Jackpot Prize  \\\n",
       "0                           1  February 01, 2003    $101 million   \n",
       "1                Watertown 34       South Dakota             NaN   \n",
       "2                           2  February 22, 2003     $42 million   \n",
       "3  Milton and Ethel Schroeder           Missouri             NaN   \n",
       "4                           3     March 26, 2003   $62.4 million   \n",
       "5                           4       May 07, 2003   $88.7 million   \n",
       "6                           5      July 09, 2003  $261.3 million   \n",
       "7   Scott and Marian Calligan       Pennsylvania             NaN   \n",
       "\n",
       "                           Winner           State  \n",
       "0                    Rondal Eaton         Indiana  \n",
       "1                             NaN             NaN  \n",
       "2          Cello Investments, LLC       Louisiana  \n",
       "3                             NaN             NaN  \n",
       "4           Hobert & Mary Parnell   West Virginia  \n",
       "5       Anthony and Monica Wilson  South Carolina  \n",
       "6  William and Claudia Walkenbach        Missouri  \n",
       "7                             NaN             NaN  "
      ]
     },
     "execution_count": 288,
     "metadata": {},
     "output_type": "execute_result"
    }
   ],
   "source": [
    "df = pd.read_csv(r\"Powerball.csv\", encoding='latin-1')\n",
    "df.head(8)"
   ]
  },
  {
   "cell_type": "markdown",
   "id": "51786283",
   "metadata": {},
   "source": [
    "### Cleaning Powerball CSV File"
   ]
  },
  {
   "cell_type": "code",
   "execution_count": 289,
   "id": "d8bed096",
   "metadata": {},
   "outputs": [
    {
     "data": {
      "text/plain": [
       "Index(['#', 'Draw Date', 'Jackpot Prize', 'Winner', 'State'], dtype='object')"
      ]
     },
     "execution_count": 289,
     "metadata": {},
     "output_type": "execute_result"
    }
   ],
   "source": [
    "df.columns #This is just to see all the columns we are working with.  If there were more this would be more useful"
   ]
  },
  {
   "cell_type": "code",
   "execution_count": 290,
   "id": "efea16cd",
   "metadata": {},
   "outputs": [
    {
     "data": {
      "text/plain": [
       "#                object\n",
       "Draw Date        object\n",
       "Jackpot Prize    object\n",
       "Winner           object\n",
       "State            object\n",
       "dtype: object"
      ]
     },
     "execution_count": 290,
     "metadata": {},
     "output_type": "execute_result"
    }
   ],
   "source": [
    "df.dtypes #This just helps to see what kind of columns it is, these are all objects, so they are string types"
   ]
  },
  {
   "cell_type": "code",
   "execution_count": 291,
   "id": "e4ca83b9",
   "metadata": {},
   "outputs": [
    {
     "data": {
      "text/html": [
       "<div>\n",
       "<style scoped>\n",
       "    .dataframe tbody tr th:only-of-type {\n",
       "        vertical-align: middle;\n",
       "    }\n",
       "\n",
       "    .dataframe tbody tr th {\n",
       "        vertical-align: top;\n",
       "    }\n",
       "\n",
       "    .dataframe thead th {\n",
       "        text-align: right;\n",
       "    }\n",
       "</style>\n",
       "<table border=\"1\" class=\"dataframe\">\n",
       "  <thead>\n",
       "    <tr style=\"text-align: right;\">\n",
       "      <th></th>\n",
       "      <th>#</th>\n",
       "      <th>Draw Date</th>\n",
       "      <th>Jackpot Prize</th>\n",
       "      <th>Winner</th>\n",
       "      <th>State</th>\n",
       "    </tr>\n",
       "  </thead>\n",
       "  <tbody>\n",
       "    <tr>\n",
       "      <th>count</th>\n",
       "      <td>233</td>\n",
       "      <td>233</td>\n",
       "      <td>210</td>\n",
       "      <td>210</td>\n",
       "      <td>210</td>\n",
       "    </tr>\n",
       "    <tr>\n",
       "      <th>unique</th>\n",
       "      <td>233</td>\n",
       "      <td>228</td>\n",
       "      <td>177</td>\n",
       "      <td>187</td>\n",
       "      <td>44</td>\n",
       "    </tr>\n",
       "    <tr>\n",
       "      <th>top</th>\n",
       "      <td>1</td>\n",
       "      <td>Pennsylvania</td>\n",
       "      <td>$50 Million</td>\n",
       "      <td>Not Disclosed</td>\n",
       "      <td>Pennsylvania</td>\n",
       "    </tr>\n",
       "    <tr>\n",
       "      <th>freq</th>\n",
       "      <td>1</td>\n",
       "      <td>3</td>\n",
       "      <td>9</td>\n",
       "      <td>11</td>\n",
       "      <td>15</td>\n",
       "    </tr>\n",
       "  </tbody>\n",
       "</table>\n",
       "</div>"
      ],
      "text/plain": [
       "          #     Draw Date Jackpot Prize         Winner         State\n",
       "count   233           233           210            210           210\n",
       "unique  233           228           177            187            44\n",
       "top       1  Pennsylvania   $50 Million  Not Disclosed  Pennsylvania\n",
       "freq      1             3             9             11            15"
      ]
     },
     "execution_count": 291,
     "metadata": {},
     "output_type": "execute_result"
    }
   ],
   "source": [
    "df.describe() #This gives us some stats on what this set of data entails"
   ]
  },
  {
   "cell_type": "code",
   "execution_count": 292,
   "id": "86ffbc08",
   "metadata": {},
   "outputs": [
    {
     "data": {
      "text/html": [
       "<div>\n",
       "<style scoped>\n",
       "    .dataframe tbody tr th:only-of-type {\n",
       "        vertical-align: middle;\n",
       "    }\n",
       "\n",
       "    .dataframe tbody tr th {\n",
       "        vertical-align: top;\n",
       "    }\n",
       "\n",
       "    .dataframe thead th {\n",
       "        text-align: right;\n",
       "    }\n",
       "</style>\n",
       "<table border=\"1\" class=\"dataframe\">\n",
       "  <thead>\n",
       "    <tr style=\"text-align: right;\">\n",
       "      <th></th>\n",
       "      <th>#</th>\n",
       "      <th>Draw Date</th>\n",
       "      <th>Jackpot Prize</th>\n",
       "      <th>Winner</th>\n",
       "      <th>State</th>\n",
       "    </tr>\n",
       "  </thead>\n",
       "  <tbody>\n",
       "    <tr>\n",
       "      <th>0</th>\n",
       "      <td>1</td>\n",
       "      <td>February 01, 2003</td>\n",
       "      <td>$101 million</td>\n",
       "      <td>Rondal Eaton</td>\n",
       "      <td>Indiana</td>\n",
       "    </tr>\n",
       "    <tr>\n",
       "      <th>1</th>\n",
       "      <td>Watertown 34</td>\n",
       "      <td>South Dakota</td>\n",
       "      <td>NaN</td>\n",
       "      <td>NaN</td>\n",
       "      <td>NaN</td>\n",
       "    </tr>\n",
       "    <tr>\n",
       "      <th>2</th>\n",
       "      <td>2</td>\n",
       "      <td>February 22, 2003</td>\n",
       "      <td>$42 million</td>\n",
       "      <td>Cello Investments, LLC</td>\n",
       "      <td>Louisiana</td>\n",
       "    </tr>\n",
       "    <tr>\n",
       "      <th>3</th>\n",
       "      <td>Milton and Ethel Schroeder</td>\n",
       "      <td>Missouri</td>\n",
       "      <td>NaN</td>\n",
       "      <td>NaN</td>\n",
       "      <td>NaN</td>\n",
       "    </tr>\n",
       "    <tr>\n",
       "      <th>4</th>\n",
       "      <td>3</td>\n",
       "      <td>March 26, 2003</td>\n",
       "      <td>$62.4 million</td>\n",
       "      <td>Hobert &amp; Mary Parnell</td>\n",
       "      <td>West Virginia</td>\n",
       "    </tr>\n",
       "    <tr>\n",
       "      <th>5</th>\n",
       "      <td>4</td>\n",
       "      <td>May 07, 2003</td>\n",
       "      <td>$88.7 million</td>\n",
       "      <td>Anthony and Monica Wilson</td>\n",
       "      <td>South Carolina</td>\n",
       "    </tr>\n",
       "    <tr>\n",
       "      <th>6</th>\n",
       "      <td>5</td>\n",
       "      <td>July 09, 2003</td>\n",
       "      <td>$261.3 million</td>\n",
       "      <td>William and Claudia Walkenbach</td>\n",
       "      <td>Missouri</td>\n",
       "    </tr>\n",
       "    <tr>\n",
       "      <th>7</th>\n",
       "      <td>Scott and Marian Calligan</td>\n",
       "      <td>Pennsylvania</td>\n",
       "      <td>NaN</td>\n",
       "      <td>NaN</td>\n",
       "      <td>NaN</td>\n",
       "    </tr>\n",
       "  </tbody>\n",
       "</table>\n",
       "</div>"
      ],
      "text/plain": [
       "                            #          Draw Date   Jackpot Prize  \\\n",
       "0                           1  February 01, 2003    $101 million   \n",
       "1                Watertown 34       South Dakota             NaN   \n",
       "2                           2  February 22, 2003     $42 million   \n",
       "3  Milton and Ethel Schroeder           Missouri             NaN   \n",
       "4                           3     March 26, 2003   $62.4 million   \n",
       "5                           4       May 07, 2003   $88.7 million   \n",
       "6                           5      July 09, 2003  $261.3 million   \n",
       "7   Scott and Marian Calligan       Pennsylvania             NaN   \n",
       "\n",
       "                           Winner           State  \n",
       "0                    Rondal Eaton         Indiana  \n",
       "1                             NaN             NaN  \n",
       "2          Cello Investments, LLC       Louisiana  \n",
       "3                             NaN             NaN  \n",
       "4           Hobert & Mary Parnell   West Virginia  \n",
       "5       Anthony and Monica Wilson  South Carolina  \n",
       "6  William and Claudia Walkenbach        Missouri  \n",
       "7                             NaN             NaN  "
      ]
     },
     "execution_count": 292,
     "metadata": {},
     "output_type": "execute_result"
    }
   ],
   "source": [
    "df = df.drop_duplicates() #Saves dupe drops into the dataFrame\n",
    "df.head(8)"
   ]
  },
  {
   "cell_type": "code",
   "execution_count": 293,
   "id": "6df5f946",
   "metadata": {},
   "outputs": [],
   "source": [
    "df = df.drop(columns = \"#\") # Got rid of '#' column, that was a product of my enumerate loop in the webscraper, it was not as useful as I thought it would be"
   ]
  },
  {
   "cell_type": "code",
   "execution_count": 294,
   "id": "c88dca5e",
   "metadata": {},
   "outputs": [
    {
     "data": {
      "text/html": [
       "<div>\n",
       "<style scoped>\n",
       "    .dataframe tbody tr th:only-of-type {\n",
       "        vertical-align: middle;\n",
       "    }\n",
       "\n",
       "    .dataframe tbody tr th {\n",
       "        vertical-align: top;\n",
       "    }\n",
       "\n",
       "    .dataframe thead th {\n",
       "        text-align: right;\n",
       "    }\n",
       "</style>\n",
       "<table border=\"1\" class=\"dataframe\">\n",
       "  <thead>\n",
       "    <tr style=\"text-align: right;\">\n",
       "      <th></th>\n",
       "      <th>Draw Date</th>\n",
       "      <th>Jackpot Prize</th>\n",
       "      <th>Winner</th>\n",
       "      <th>State</th>\n",
       "    </tr>\n",
       "  </thead>\n",
       "  <tbody>\n",
       "    <tr>\n",
       "      <th>0</th>\n",
       "      <td>February 01, 2003</td>\n",
       "      <td>$101 million</td>\n",
       "      <td>Rondal Eaton</td>\n",
       "      <td>Indiana</td>\n",
       "    </tr>\n",
       "    <tr>\n",
       "      <th>1</th>\n",
       "      <td>South Dakota</td>\n",
       "      <td>NaN</td>\n",
       "      <td>NaN</td>\n",
       "      <td>NaN</td>\n",
       "    </tr>\n",
       "    <tr>\n",
       "      <th>2</th>\n",
       "      <td>February 22, 2003</td>\n",
       "      <td>$42 million</td>\n",
       "      <td>Cello Investments, LLC</td>\n",
       "      <td>Louisiana</td>\n",
       "    </tr>\n",
       "    <tr>\n",
       "      <th>3</th>\n",
       "      <td>Missouri</td>\n",
       "      <td>NaN</td>\n",
       "      <td>NaN</td>\n",
       "      <td>NaN</td>\n",
       "    </tr>\n",
       "    <tr>\n",
       "      <th>4</th>\n",
       "      <td>March 26, 2003</td>\n",
       "      <td>$62.4 million</td>\n",
       "      <td>Hobert &amp; Mary Parnell</td>\n",
       "      <td>West Virginia</td>\n",
       "    </tr>\n",
       "    <tr>\n",
       "      <th>5</th>\n",
       "      <td>May 07, 2003</td>\n",
       "      <td>$88.7 million</td>\n",
       "      <td>Anthony and Monica Wilson</td>\n",
       "      <td>South Carolina</td>\n",
       "    </tr>\n",
       "    <tr>\n",
       "      <th>6</th>\n",
       "      <td>July 09, 2003</td>\n",
       "      <td>$261.3 million</td>\n",
       "      <td>William and Claudia Walkenbach</td>\n",
       "      <td>Missouri</td>\n",
       "    </tr>\n",
       "    <tr>\n",
       "      <th>7</th>\n",
       "      <td>Pennsylvania</td>\n",
       "      <td>NaN</td>\n",
       "      <td>NaN</td>\n",
       "      <td>NaN</td>\n",
       "    </tr>\n",
       "  </tbody>\n",
       "</table>\n",
       "</div>"
      ],
      "text/plain": [
       "           Draw Date   Jackpot Prize                          Winner  \\\n",
       "0  February 01, 2003    $101 million                    Rondal Eaton   \n",
       "1       South Dakota             NaN                             NaN   \n",
       "2  February 22, 2003     $42 million          Cello Investments, LLC   \n",
       "3           Missouri             NaN                             NaN   \n",
       "4     March 26, 2003   $62.4 million           Hobert & Mary Parnell   \n",
       "5       May 07, 2003   $88.7 million       Anthony and Monica Wilson   \n",
       "6      July 09, 2003  $261.3 million  William and Claudia Walkenbach   \n",
       "7       Pennsylvania             NaN                             NaN   \n",
       "\n",
       "            State  \n",
       "0         Indiana  \n",
       "1             NaN  \n",
       "2       Louisiana  \n",
       "3             NaN  \n",
       "4   West Virginia  \n",
       "5  South Carolina  \n",
       "6        Missouri  \n",
       "7             NaN  "
      ]
     },
     "execution_count": 294,
     "metadata": {},
     "output_type": "execute_result"
    }
   ],
   "source": [
    "pd.set_option('display.max_rows', 1000) #This increases the amount displayed to REALLY take a look at everything\n",
    "df.head(8)"
   ]
  },
  {
   "cell_type": "code",
   "execution_count": 295,
   "id": "46ed8104",
   "metadata": {
    "scrolled": true
   },
   "outputs": [
    {
     "data": {
      "text/html": [
       "<div>\n",
       "<style scoped>\n",
       "    .dataframe tbody tr th:only-of-type {\n",
       "        vertical-align: middle;\n",
       "    }\n",
       "\n",
       "    .dataframe tbody tr th {\n",
       "        vertical-align: top;\n",
       "    }\n",
       "\n",
       "    .dataframe thead th {\n",
       "        text-align: right;\n",
       "    }\n",
       "</style>\n",
       "<table border=\"1\" class=\"dataframe\">\n",
       "  <thead>\n",
       "    <tr style=\"text-align: right;\">\n",
       "      <th></th>\n",
       "      <th>Draw Date</th>\n",
       "      <th>Jackpot Prize</th>\n",
       "      <th>Winner</th>\n",
       "      <th>State</th>\n",
       "    </tr>\n",
       "  </thead>\n",
       "  <tbody>\n",
       "    <tr>\n",
       "      <th>0</th>\n",
       "      <td>February 01, 2003</td>\n",
       "      <td>$101 million</td>\n",
       "      <td>Rondal Eaton</td>\n",
       "      <td>Indiana</td>\n",
       "    </tr>\n",
       "    <tr>\n",
       "      <th>2</th>\n",
       "      <td>February 22, 2003</td>\n",
       "      <td>$42 million</td>\n",
       "      <td>Cello Investments, LLC</td>\n",
       "      <td>Louisiana</td>\n",
       "    </tr>\n",
       "    <tr>\n",
       "      <th>4</th>\n",
       "      <td>March 26, 2003</td>\n",
       "      <td>$62.4 million</td>\n",
       "      <td>Hobert &amp; Mary Parnell</td>\n",
       "      <td>West Virginia</td>\n",
       "    </tr>\n",
       "    <tr>\n",
       "      <th>5</th>\n",
       "      <td>May 07, 2003</td>\n",
       "      <td>$88.7 million</td>\n",
       "      <td>Anthony and Monica Wilson</td>\n",
       "      <td>South Carolina</td>\n",
       "    </tr>\n",
       "    <tr>\n",
       "      <th>6</th>\n",
       "      <td>July 09, 2003</td>\n",
       "      <td>$261.3 million</td>\n",
       "      <td>William and Claudia Walkenbach</td>\n",
       "      <td>Missouri</td>\n",
       "    </tr>\n",
       "    <tr>\n",
       "      <th>8</th>\n",
       "      <td>July 16, 2003</td>\n",
       "      <td>$13.5 million</td>\n",
       "      <td>Alva \"Jeanie\" Osborne</td>\n",
       "      <td>Kentucky</td>\n",
       "    </tr>\n",
       "    <tr>\n",
       "      <th>9</th>\n",
       "      <td>August 30, 2003</td>\n",
       "      <td>$135 million</td>\n",
       "      <td>Aeetos Trust, Rosemary Centola &amp; Lawrence Centola</td>\n",
       "      <td>New Hampshire</td>\n",
       "    </tr>\n",
       "    <tr>\n",
       "      <th>10</th>\n",
       "      <td>October 25, 2003</td>\n",
       "      <td>$190.9 million</td>\n",
       "      <td>Regina Mandabach</td>\n",
       "      <td>Indiana</td>\n",
       "    </tr>\n",
       "  </tbody>\n",
       "</table>\n",
       "</div>"
      ],
      "text/plain": [
       "            Draw Date   Jackpot Prize  \\\n",
       "0   February 01, 2003    $101 million   \n",
       "2   February 22, 2003     $42 million   \n",
       "4      March 26, 2003   $62.4 million   \n",
       "5        May 07, 2003   $88.7 million   \n",
       "6       July 09, 2003  $261.3 million   \n",
       "8       July 16, 2003   $13.5 million   \n",
       "9     August 30, 2003    $135 million   \n",
       "10   October 25, 2003  $190.9 million   \n",
       "\n",
       "                                               Winner           State  \n",
       "0                                        Rondal Eaton         Indiana  \n",
       "2                              Cello Investments, LLC       Louisiana  \n",
       "4                               Hobert & Mary Parnell   West Virginia  \n",
       "5                           Anthony and Monica Wilson  South Carolina  \n",
       "6                      William and Claudia Walkenbach        Missouri  \n",
       "8                               Alva \"Jeanie\" Osborne        Kentucky  \n",
       "9   Aeetos Trust, Rosemary Centola & Lawrence Centola   New Hampshire  \n",
       "10                                   Regina Mandabach         Indiana  "
      ]
     },
     "execution_count": 295,
     "metadata": {},
     "output_type": "execute_result"
    }
   ],
   "source": [
    "df = df.dropna() #Get's rid of all the Null rows, rows with no info are useless\n",
    "df.head(8)"
   ]
  },
  {
   "cell_type": "markdown",
   "id": "1b8df50a",
   "metadata": {},
   "source": [
    "### Analyzing Powerball Data"
   ]
  },
  {
   "cell_type": "code",
   "execution_count": 296,
   "id": "59997dae",
   "metadata": {},
   "outputs": [
    {
     "data": {
      "text/plain": [
       "Jackpot Prize\n",
       "$50 Million      9\n",
       "$15 million      6\n",
       "$80 Million      4\n",
       "$70 Million      4\n",
       "$60 Million      4\n",
       "$25 Million      2\n",
       "$136 Million     2\n",
       "$61.5 million    2\n",
       "Name: count, dtype: int64"
      ]
     },
     "execution_count": 296,
     "metadata": {},
     "output_type": "execute_result"
    }
   ],
   "source": [
    "df['Jackpot Prize'].value_counts().head(8) #How many times each Jackpot amount was won"
   ]
  },
  {
   "cell_type": "code",
   "execution_count": 297,
   "id": "b843dbb9",
   "metadata": {},
   "outputs": [
    {
     "data": {
      "text/plain": [
       "State\n",
       "Pennsylvania    15\n",
       "Florida         14\n",
       "Indiana         12\n",
       "New York        12\n",
       "California      10\n",
       "New Jersey      10\n",
       "Missouri        10\n",
       "Wisconsin        9\n",
       "Name: count, dtype: int64"
      ]
     },
     "execution_count": 297,
     "metadata": {},
     "output_type": "execute_result"
    }
   ],
   "source": [
    "df['State'].value_counts().head(8) #Of the recent Jackpots won, PN. had the most wins"
   ]
  },
  {
   "cell_type": "code",
   "execution_count": 298,
   "id": "eea07142",
   "metadata": {},
   "outputs": [
    {
     "data": {
      "image/png": "[encoded data removed]",
      "text/plain": [
       "<Figure size 500x400 with 1 Axes>"
      ]
     },
     "metadata": {},
     "output_type": "display_data"
    }
   ],
   "source": [
    "# Converting Data to Datetime for analysis\n",
    "\n",
    "import datetime as dt\n",
    "\n",
    "df_date = pd.to_datetime(df[\"Draw Date\"])\n",
    "df_date['date'] = df_date.dt.date\n",
    "df_date['date'] =  pd.to_datetime(df_date['date'], format='%Y-%m-%d')\n",
    "\n",
    "df_date['Month'] = df_date['date'].dt.month\n",
    "df_date['Year'] = df_date['date'].dt.year\n",
    "df_date['Day'] = df_date['date'].dt.weekday\n",
    "\n",
    "df_date [\"Month\"].value_counts()\n",
    "\n",
    "month = df_date[\"Month\"].value_counts().index\n",
    "count = df_date[\"Month\"].value_counts().values\n",
    "\n",
    "plt.bar(month, count)\n",
    "\n",
    "plt.title(\"Number of Draw Dates by Month\")\n",
    "plt.xlabel(\"Month\")\n",
    "plt.ylabel(\"Count\")\n",
    "\n",
    "plt.xticks(rotation=45)\n",
    "\n",
    "plt.show() "
   ]
  },
  {
   "cell_type": "code",
   "execution_count": 299,
   "id": "d78ff045",
   "metadata": {},
   "outputs": [
    {
     "data": {
      "text/plain": [
       "Draw Date\n",
       "2    105\n",
       "5    103\n",
       "0      2\n",
       "Name: count, dtype: int64"
      ]
     },
     "execution_count": 299,
     "metadata": {},
     "output_type": "execute_result"
    }
   ],
   "source": [
    "df_date [\"Day\"].value_counts() #Because of datetime this might look wonky, 2 = Wed, 5 = Sat, 0 = Mon  "
   ]
  },
  {
   "cell_type": "code",
   "execution_count": 300,
   "id": "8b337289",
   "metadata": {
    "scrolled": true
   },
   "outputs": [
    {
     "data": {
      "image/png": "[encoded data removed]",
      "text/plain": [
       "<Figure size 500x400 with 1 Axes>"
      ]
     },
     "metadata": {},
     "output_type": "display_data"
    }
   ],
   "source": [
    "day = df_date[\"Day\"].value_counts().index\n",
    "count = df_date[\"Day\"].value_counts().values\n",
    "\n",
    "plt.bar(day, count)\n",
    "\n",
    "plt.title(\"Number of Draw Dates by Day of Week\")\n",
    "plt.xlabel(\"Day\")\n",
    "plt.ylabel(\"Count\")\n",
    "\n",
    "plt.xticks(rotation=45)\n",
    "\n",
    "plt.show()\n",
    "\n",
    "#Pretty close between Wednesday and Saturday, with Wed squeaking out a win"
   ]
  },
  {
   "cell_type": "code",
   "execution_count": 301,
   "id": "6b59f7c7",
   "metadata": {
    "scrolled": true
   },
   "outputs": [
    {
     "data": {
      "text/plain": [
       "Draw Date\n",
       "3     24\n",
       "6     24\n",
       "9     19\n",
       "8     18\n",
       "11    18\n",
       "12    18\n",
       "2     17\n",
       "10    17\n",
       "5     15\n",
       "1     15\n",
       "4     14\n",
       "7     11\n",
       "Name: count, dtype: int64"
      ]
     },
     "execution_count": 301,
     "metadata": {},
     "output_type": "execute_result"
    }
   ],
   "source": [
    "df_date['Month'].value_counts() #Tied for top is March and June, intresting.  Worst is July, maybe because of people spending money on vacations?"
   ]
  },
  {
   "cell_type": "code",
   "execution_count": 302,
   "id": "7d302995",
   "metadata": {},
   "outputs": [
    {
     "data": {
      "image/png": "[encoded data removed]",
      "text/plain": [
       "<Figure size 500x400 with 1 Axes>"
      ]
     },
     "metadata": {},
     "output_type": "display_data"
    }
   ],
   "source": [
    "year = df_date[\"Year\"].value_counts().index\n",
    "count = df_date[\"Year\"].value_counts().values\n",
    "\n",
    "plt.bar(year, count)\n",
    "\n",
    "plt.title(\"Number of Draw Dates by Years\")\n",
    "plt.xlabel(\"Year\")\n",
    "plt.ylabel(\"Count\")\n",
    "\n",
    "plt.xticks(rotation=45)\n",
    "\n",
    "plt.show()\n",
    "\n",
    "#Pretty close between Wednesday and Saturday, with Wed squeaking out a win.  This is also about 20 years of wins."
   ]
  },
  {
   "cell_type": "code",
   "execution_count": 303,
   "id": "3ada9519",
   "metadata": {},
   "outputs": [
    {
     "data": {
      "text/plain": [
       "Winner\n",
       "Not Disclosed                                        11\n",
       "Unknown                                              10\n",
       "Name Withheld                                         3\n",
       "Not claimed yet                                       3\n",
       "Rondal Eaton                                          1\n",
       "David & Erica Harrig                                  1\n",
       "Dave & Nancy Honeywell                                1\n",
       "Pedro Quezada                                         1\n",
       "Ted Baumgartner                                       1\n",
       "Gloria C. MacKenzie                                   1\n",
       "Paul McDowell                                         1\n",
       "Patricia Chandler                                     1\n",
       "Mario Scarnici                                        1\n",
       "Carlo \"Carl\" Mitchell                                 1\n",
       "Kevin Carlson                                         1\n",
       "Rosa DeLeon and Reginald LeBlanc                      1\n",
       "B. Raymond Buxton                                     1\n",
       "Joseph Saxer                                          1\n",
       "John and Susan Brands                                 1\n",
       "FlaMass Family Lottery Joint Venture                  1\n",
       "Roy Cockrum                                           1\n",
       "Mary Ann Thompson                                     1\n",
       "John \"Jack\" Long                                      1\n",
       "Claude \"Al\" G.                                        1\n",
       "Vinh Nguyen                                           1\n",
       "Christopher McGurran                                  1\n",
       "Cindy and Mark Hill                                   1\n",
       "Roger Custer                                          1\n",
       "Kathy Scruggs                                         1\n",
       "Jeffrey & Christine Pintuff                           1\n",
       "Stephen Kirwin                                        1\n",
       "Carvajal Family Group                                 1\n",
       "Darin Fox and Todd Reardon                            1\n",
       "William \"Bill\" Swanson II                             1\n",
       "1937 Flatbush Avenue Dodgers LLC                      1\n",
       "Jimmy Freeman                                         1\n",
       "Thomas Morris                                         1\n",
       "The Putnam Avenue Family Trust                        1\n",
       "KJH Family, LLC                                       1\n",
       "Steven Lloyd                                          1\n",
       "The Rainbow Sherbert Trust                            1\n",
       "Tara Ramirez/Case Park LLC                            1\n",
       "Ohana Trust                                           1\n",
       "Joseph & Celeste Tamburello                           1\n",
       "48 SEPTA coworkerss                                   1\n",
       "The Shipping 20                                       1\n",
       "Donald Lawson                                         1\n",
       "Marilyn Boldon                                        1\n",
       "Lisa N. Quam                                          1\n",
       "Sheila Verke                                          1\n",
       "Emerald Legacy Trust                                  1\n",
       "Tayeb Souami                                          1\n",
       "Steven Nickell                                        1\n",
       "The Sea & Sand Trust (Nandlall Mangal)                1\n",
       "Robert Bailey                                         1\n",
       "David Johnson                                         1\n",
       "Manuel Franco                                         1\n",
       "Charles W. Jackson Jr.                                1\n",
       "Freedom Trust                                         1\n",
       "Not Claimed yet                                       1\n",
       "David Yax                                             1\n",
       "Phillip Chippewa                                      1\n",
       "Bill Lawrence                                         1\n",
       "Thomas Cook and Joseph Feeney                         1\n",
       "William Kruger                                        1\n",
       "September 2020, LLC                                   1\n",
       "The Power Pack                                        1\n",
       "Thomas Yi                                             1\n",
       "The Love You More Trust                               1\n",
       "Scott Godfrey                                         1\n",
       "The Moose Family Trust                                1\n",
       "Good Karma Family 2018 Nominee Trust                  1\n",
       "Michael Duncan                                        1\n",
       "292 Family Partnership                                1\n",
       "Rocklin Four                                          1\n",
       "Alice Dawson                                          1\n",
       "Maria Herrera                                         1\n",
       "Orencia Barzey                                        1\n",
       "Tom Rea                                               1\n",
       "Willie Nelson                                         1\n",
       "Julie Leach                                           1\n",
       "Avondale Revocable Trust                              1\n",
       "Marvin and Mae Acosta                                 1\n",
       "James Stocklas                                        1\n",
       "The Smith Family Lottery Pool                         1\n",
       "Robin Egg 2016 Nominee Trust                          1\n",
       "William and Heather ten Broeke                        1\n",
       "Tennessee 20                                          1\n",
       "Bohemian Financial, LLC                               1\n",
       "Mai Xiong                                             1\n",
       "Jeff Lindsay                                          1\n",
       "Mavis Wanczyk                                         1\n",
       "Judy F.                                               1\n",
       "Muncie Meade                                          1\n",
       "The Ziegler Family Revocable Trust                    1\n",
       "Team Victory                                          1\n",
       "Hugh Hawkins                                          1\n",
       "Barbara & Craig Lennen                                1\n",
       "Bob & Patty MacZura                                   1\n",
       "The Hubbard Family                                    1\n",
       "Brad Duke                                             1\n",
       "Christopher Ewen                                      1\n",
       "The FEMA Team                                         1\n",
       "John San Cartier                                      1\n",
       "Chaney & West Families                                1\n",
       "Scheinost Family                                      1\n",
       "ConAgra Foods Coworkers                               1\n",
       "Cello Investments, LLC                                1\n",
       "Missouri Lucky 13                                     1\n",
       "Lan \"Bill\" Nguyen                                     1\n",
       "WJW Investment Trust                                  1\n",
       "100 Miracles                                          1\n",
       "Tim & Kellie Guderian                                 1\n",
       "Jane Jabert                                           1\n",
       "Arizona 9                                             1\n",
       "Jackie Alston                                         1\n",
       "Wilson Family                                         1\n",
       "Eric Kyle                                             1\n",
       "Duchess Trust                                         1\n",
       "Kathleen Fitzgerald, Karen Rodgers & Janet Bigler     1\n",
       "Peter Bapes                                           1\n",
       "Hobert & Mary Parnell                                 1\n",
       "Anthony and Monica Wilson                             1\n",
       "William and Claudia Walkenbach                        1\n",
       "Alva \"Jeanie\" Osborne                                 1\n",
       "Aeetos Trust, Rosemary Centola & Lawrence Centola     1\n",
       "Regina Mandabach                                      1\n",
       "Jon & Louanne Lashbrook                               1\n",
       "James and Rebeca Allen                                1\n",
       "Norman and DeAnna Shue                                1\n",
       "The Bow Trust                                         1\n",
       "Tim and Pam Rivers                                    1\n",
       "Steve and Kristine White                              1\n",
       "Jim Hare & Tom Hare                                   1\n",
       "Jackie and Jim Lagoon                                 1\n",
       "Mary Beth and David Wenell                            1\n",
       "33 Co-Workers from Seaford                            1\n",
       "Jacquelyn Moore                                       1\n",
       "WLT Trust                                             1\n",
       "Tim Sindel                                            1\n",
       "Barry & Barbara Salzman                               1\n",
       "Daniel Gannon                                         1\n",
       "Dick Sandlin                                          1\n",
       "GMTR Investments, LLC                                 1\n",
       "Rockson, LLC                                          1\n",
       "Neal Wanless                                          1\n",
       "Jeff Wilson                                           1\n",
       "Rahul Patel                                           1\n",
       "Solomon Jackson, Jr.                                  1\n",
       "W. Steemers Trust                                     1\n",
       "Doug Miron                                            1\n",
       "Donald Damon                                          1\n",
       "The End of the Rainbow Trust                          1\n",
       "Rob & Tuesday  Anderson                               1\n",
       "Frank Griffin                                         1\n",
       "Sandra Mcneil                                         1\n",
       "Christopher \"Chris\" Shaw                              1\n",
       "The 2010 Blind Trust (George M. Hoffman)              1\n",
       "The Lucky Thirteen Plus One                           1\n",
       "Elizabeth Choras-Hanna                                1\n",
       "H&N Family Partnership                                1\n",
       "William R. \"Randy\"                                    1\n",
       "Gerald L. Render                                      1\n",
       "Palmira Nicolo                                        1\n",
       "SWS Investments, LLC                                  1\n",
       "Dale Chellis & Toni Sergott                           1\n",
       "Myrna and Thomas Shearer                              1\n",
       "Felipe Piña                                           1\n",
       "Don & Joyce Harvey                                    1\n",
       "Coteral & Hiles Family                                1\n",
       "Steve Peot                                            1\n",
       "Nukote 22                                             1\n",
       "William Heid Jr.                                      1\n",
       "John Lorusso                                          1\n",
       "Eugene and Stanislawa Markiewicz                      1\n",
       "Sheila Botelho                                        1\n",
       "Linville Lee Huff                                     1\n",
       "Carl Hunter                                           1\n",
       "Monongalia County Tax Office 8                        1\n",
       "Paul Rosenau                                          1\n",
       "Jonathan Vargas                                       1\n",
       "Emilia Delgado                                        1\n",
       "Heritage Trust                                        1\n",
       "Barrie Edwards Family                                 1\n",
       "Roswell Fun Havers                                    1\n",
       "22 Postal Workers                                     1\n",
       "Tammy and Cliff Webster                               1\n",
       "Name: count, dtype: int64"
      ]
     },
     "execution_count": 303,
     "metadata": {},
     "output_type": "execute_result"
    }
   ],
   "source": [
    "df['Winner'].value_counts() #Just wanted to see if there were any people that hit twice, not in this set."
   ]
  },
  {
   "cell_type": "markdown",
   "id": "37730370",
   "metadata": {},
   "source": [
    "#### This is a Single Subplot to show States by Wins Below"
   ]
  },
  {
   "cell_type": "code",
   "execution_count": 304,
   "id": "1569f730",
   "metadata": {
    "scrolled": true
   },
   "outputs": [
    {
     "data": {
      "image/png": "[encoded data removed]",
      "text/plain": [
       "<Figure size 2400x400 with 1 Axes>"
      ]
     },
     "metadata": {},
     "output_type": "display_data"
    },
    {
     "name": "stdout",
     "output_type": "stream",
     "text": [
      "State\n",
      "Pennsylvania    15\n",
      "Florida         14\n",
      "Indiana         12\n",
      "New York        12\n",
      "California      10\n",
      "New Jersey      10\n",
      "Missouri        10\n",
      "Wisconsin        9\n",
      "Name: count, dtype: int64\n"
     ]
    }
   ],
   "source": [
    "state = df[\"State\"].value_counts().index\n",
    "count = df[\"State\"].value_counts().values\n",
    "\n",
    "fig = plt.figure(figsize=(24, 4))\n",
    "ax = fig.add_subplot(111)\n",
    "ax.plot(state, count)\n",
    "\n",
    "plt.xticks(rotation=45)\n",
    "\n",
    "plt.show()\n",
    "print(df['State'].value_counts().head(8))"
   ]
  },
  {
   "cell_type": "markdown",
   "id": "2da1ff4a",
   "metadata": {},
   "source": [
    "### From the figures below, we can see that the frequency of jackpots being hit has gone down, but the jackpots being won has gone up over the years."
   ]
  },
  {
   "cell_type": "code",
   "execution_count": 305,
   "id": "e86bf339",
   "metadata": {
    "scrolled": true
   },
   "outputs": [
    {
     "data": {
      "text/plain": [
       "Draw Date\n",
       "2007    16\n",
       "2010    15\n",
       "2005    14\n",
       "2012    14\n",
       "2013    13\n",
       "2011    13\n",
       "2015    12\n",
       "2009    12\n",
       "2004    11\n",
       "2014    11\n",
       "2003    11\n",
       "2008    11\n",
       "2006    10\n",
       "2018     8\n",
       "2016     7\n",
       "2017     7\n",
       "2019     7\n",
       "2020     7\n",
       "2021     6\n",
       "2022     5\n",
       "Name: count, dtype: int64"
      ]
     },
     "execution_count": 305,
     "metadata": {},
     "output_type": "execute_result"
    }
   ],
   "source": [
    "df_date [\"Year\"].value_counts() #2016 and beyond seems to be the years where less people won"
   ]
  },
  {
   "cell_type": "code",
   "execution_count": 306,
   "id": "d1955395",
   "metadata": {},
   "outputs": [
    {
     "data": {
      "image/png": "[encoded data removed]",
      "text/plain": [
       "<Figure size 500x400 with 1 Axes>"
      ]
     },
     "metadata": {},
     "output_type": "display_data"
    }
   ],
   "source": [
    "year = df_date[\"Year\"].value_counts().index\n",
    "count = df_date[\"Year\"].value_counts().values\n",
    "\n",
    "plt.bar(year, count)\n",
    "\n",
    "plt.rcParams[\"figure.figsize\"] = (5, 4)\n",
    "\n",
    "plt.title(\"Years Jackpots Won\")\n",
    "plt.xlabel(\"Years\")\n",
    "plt.ylabel(\"Occurrences\")\n",
    "\n",
    "plt.xticks(rotation=45)\n",
    "\n",
    "plt.show()"
   ]
  },
  {
   "cell_type": "code",
   "execution_count": 307,
   "id": "993e29f7",
   "metadata": {
    "scrolled": false
   },
   "outputs": [
    {
     "data": {
      "image/png": "[encoded data removed]",
      "text/plain": [
       "<Figure size 500x400 with 1 Axes>"
      ]
     },
     "metadata": {},
     "output_type": "display_data"
    }
   ],
   "source": [
    "# Converts the str OBJ to a int value.  Because the millions data was a string I had to get the numbers themselves\n",
    "def convert_to_numeric(x):\n",
    "    return int(re.findall(r'\\d+', x)[0]) #r'\\d+' find's one or more digits in str 'x', the [0] is the first element found.  The int then converts that to int.\n",
    "\n",
    "money = df['Jackpot Prize'].map(convert_to_numeric)\n",
    "\n",
    "x = df_date[\"Year\"]\n",
    "y = money\n",
    "\n",
    "\n",
    "\n",
    "sns.barplot(x = x, y = y)\n",
    "plt.xticks(rotation=45, ha='right')\n",
    "plt.xlabel(\"Years\")\n",
    "plt.ylabel(\"Jackpot Prize  (In Millions)\")\n",
    "plt.show()\n",
    "#The long, thin rectangles are error bars.  These show the range of variation in the data, main bars are the averages of the values"
   ]
  },
  {
   "cell_type": "code",
   "execution_count": 308,
   "id": "40187353",
   "metadata": {},
   "outputs": [
    {
     "data": {
      "text/plain": [
       "163.35238095238094"
      ]
     },
     "execution_count": 308,
     "metadata": {},
     "output_type": "execute_result"
    }
   ],
   "source": [
    "# The average Jackpot Prize size in Millions\n",
    "money.mean()"
   ]
  },
  {
   "cell_type": "markdown",
   "id": "9b2eb6ee",
   "metadata": {},
   "source": [
    "#### My PyCharm wasn't exporting this Scraped file to a CSV correctly for some reason, so I just did it here"
   ]
  },
  {
   "cell_type": "code",
   "execution_count": 309,
   "id": "3860c9ee",
   "metadata": {
    "scrolled": true
   },
   "outputs": [],
   "source": [
    "url = \"https://www.statista.com/statistics/215265/sales-of-us-state-and-provincial-lotteries/\"\n",
    "response = requests.get(url)\n",
    "html_content = response.content\n",
    "soup = BeautifulSoup(html_content, \"html.parser\")\n",
    "\n",
    "tab = soup.find(\"table\",{\"class\":\"table hidden\"})\n",
    "\n",
    "header = []\n",
    "rows = []\n",
    "\n",
    "for i, row in enumerate(tab('tr')):\n",
    "    if i == 0:\n",
    "        header = [el.text.strip() for el in row.find_all('th')]\n",
    "    else:\n",
    "        rows.append([el.text.strip() for el in row.find_all('td')])\n",
    "\n",
    "# print(header)\n",
    "# for row in rows:\n",
    "#     print(row)\n",
    "    \n",
    "result = []\n",
    "result.append(header)\n",
    "for row in rows:\n",
    "    result.append(row)"
   ]
  },
  {
   "cell_type": "code",
   "execution_count": 310,
   "id": "aa088905",
   "metadata": {},
   "outputs": [],
   "source": [
    "# Converting Scraper results to dataFrame\n",
    "df2 = pd.DataFrame(result)"
   ]
  },
  {
   "cell_type": "code",
   "execution_count": 311,
   "id": "0af13c14",
   "metadata": {
    "scrolled": true
   },
   "outputs": [
    {
     "data": {
      "text/html": [
       "<div>\n",
       "<style scoped>\n",
       "    .dataframe tbody tr th:only-of-type {\n",
       "        vertical-align: middle;\n",
       "    }\n",
       "\n",
       "    .dataframe tbody tr th {\n",
       "        vertical-align: top;\n",
       "    }\n",
       "\n",
       "    .dataframe thead th {\n",
       "        text-align: right;\n",
       "    }\n",
       "</style>\n",
       "<table border=\"1\" class=\"dataframe\">\n",
       "  <thead>\n",
       "    <tr style=\"text-align: right;\">\n",
       "      <th></th>\n",
       "      <th>0</th>\n",
       "      <th>1</th>\n",
       "    </tr>\n",
       "  </thead>\n",
       "  <tbody>\n",
       "    <tr>\n",
       "      <th>0</th>\n",
       "      <td>Characteristic</td>\n",
       "      <td>Sales in billion U.S. dollars</td>\n",
       "    </tr>\n",
       "    <tr>\n",
       "      <th>1</th>\n",
       "      <td>2022</td>\n",
       "      <td>107.92</td>\n",
       "    </tr>\n",
       "    <tr>\n",
       "      <th>2</th>\n",
       "      <td>2021</td>\n",
       "      <td>105.24</td>\n",
       "    </tr>\n",
       "    <tr>\n",
       "      <th>3</th>\n",
       "      <td>2020</td>\n",
       "      <td>89.59</td>\n",
       "    </tr>\n",
       "    <tr>\n",
       "      <th>4</th>\n",
       "      <td>2019</td>\n",
       "      <td>91.32</td>\n",
       "    </tr>\n",
       "  </tbody>\n",
       "</table>\n",
       "</div>"
      ],
      "text/plain": [
       "                0                              1\n",
       "0  Characteristic  Sales in billion U.S. dollars\n",
       "1            2022                         107.92\n",
       "2            2021                         105.24\n",
       "3            2020                          89.59\n",
       "4            2019                          91.32"
      ]
     },
     "execution_count": 311,
     "metadata": {},
     "output_type": "execute_result"
    }
   ],
   "source": [
    "df2.head(5)"
   ]
  },
  {
   "cell_type": "code",
   "execution_count": 312,
   "id": "aca98f09",
   "metadata": {
    "scrolled": false
   },
   "outputs": [
    {
     "data": {
      "text/html": [
       "<div>\n",
       "<style scoped>\n",
       "    .dataframe tbody tr th:only-of-type {\n",
       "        vertical-align: middle;\n",
       "    }\n",
       "\n",
       "    .dataframe tbody tr th {\n",
       "        vertical-align: top;\n",
       "    }\n",
       "\n",
       "    .dataframe thead th {\n",
       "        text-align: right;\n",
       "    }\n",
       "</style>\n",
       "<table border=\"1\" class=\"dataframe\">\n",
       "  <thead>\n",
       "    <tr style=\"text-align: right;\">\n",
       "      <th></th>\n",
       "      <th>Years</th>\n",
       "      <th>Sales(In_Billions)</th>\n",
       "    </tr>\n",
       "  </thead>\n",
       "  <tbody>\n",
       "    <tr>\n",
       "      <th>0</th>\n",
       "      <td>Characteristic</td>\n",
       "      <td>Sales in billion U.S. dollars</td>\n",
       "    </tr>\n",
       "    <tr>\n",
       "      <th>1</th>\n",
       "      <td>2022</td>\n",
       "      <td>107.92</td>\n",
       "    </tr>\n",
       "    <tr>\n",
       "      <th>2</th>\n",
       "      <td>2021</td>\n",
       "      <td>105.24</td>\n",
       "    </tr>\n",
       "    <tr>\n",
       "      <th>3</th>\n",
       "      <td>2020</td>\n",
       "      <td>89.59</td>\n",
       "    </tr>\n",
       "    <tr>\n",
       "      <th>4</th>\n",
       "      <td>2019</td>\n",
       "      <td>91.32</td>\n",
       "    </tr>\n",
       "    <tr>\n",
       "      <th>5</th>\n",
       "      <td>2018</td>\n",
       "      <td>85.59</td>\n",
       "    </tr>\n",
       "    <tr>\n",
       "      <th>6</th>\n",
       "      <td>2017</td>\n",
       "      <td>80.39</td>\n",
       "    </tr>\n",
       "    <tr>\n",
       "      <th>7</th>\n",
       "      <td>2016</td>\n",
       "      <td>80.55</td>\n",
       "    </tr>\n",
       "  </tbody>\n",
       "</table>\n",
       "</div>"
      ],
      "text/plain": [
       "            Years             Sales(In_Billions)\n",
       "0  Characteristic  Sales in billion U.S. dollars\n",
       "1            2022                         107.92\n",
       "2            2021                         105.24\n",
       "3            2020                          89.59\n",
       "4            2019                          91.32\n",
       "5            2018                          85.59\n",
       "6            2017                          80.39\n",
       "7            2016                          80.55"
      ]
     },
     "execution_count": 312,
     "metadata": {},
     "output_type": "execute_result"
    }
   ],
   "source": [
    "# Cleaning up the columns names\n",
    "df2.columns = ['Years', 'Sales(In_Billions)']\n",
    "df2.head(8)"
   ]
  },
  {
   "cell_type": "code",
   "execution_count": 313,
   "id": "77c606b4",
   "metadata": {
    "scrolled": false
   },
   "outputs": [],
   "source": [
    "# Dropping Scraper first row\n",
    "df2 = df2.drop(index=0)"
   ]
  },
  {
   "cell_type": "code",
   "execution_count": 314,
   "id": "8d92de57",
   "metadata": {
    "scrolled": false
   },
   "outputs": [
    {
     "data": {
      "text/plain": [
       "1     107\n",
       "2     105\n",
       "3      89\n",
       "4      91\n",
       "5      85\n",
       "6      80\n",
       "7      80\n",
       "8      73\n",
       "9      70\n",
       "10     68\n",
       "11     68\n",
       "12     63\n",
       "13     58\n",
       "14     58\n",
       "Name: Sales(In_Billions), dtype: int32"
      ]
     },
     "execution_count": 314,
     "metadata": {},
     "output_type": "execute_result"
    }
   ],
   "source": [
    "# Converting to Int to use for graph\n",
    "def convert_to_numeric(x):\n",
    "    return int(re.findall(r'\\d+', x)[0])\n",
    "\n",
    "money = df2['Sales(In_Billions)'].map(convert_to_numeric)\n",
    "df2['Sales(In_Billions)'] = money\n",
    "df2['Sales(In_Billions)'].astype(int)"
   ]
  },
  {
   "cell_type": "code",
   "execution_count": 315,
   "id": "035b64dc",
   "metadata": {
    "scrolled": true
   },
   "outputs": [
    {
     "data": {
      "text/html": [
       "<div>\n",
       "<style scoped>\n",
       "    .dataframe tbody tr th:only-of-type {\n",
       "        vertical-align: middle;\n",
       "    }\n",
       "\n",
       "    .dataframe tbody tr th {\n",
       "        vertical-align: top;\n",
       "    }\n",
       "\n",
       "    .dataframe thead th {\n",
       "        text-align: right;\n",
       "    }\n",
       "</style>\n",
       "<table border=\"1\" class=\"dataframe\">\n",
       "  <thead>\n",
       "    <tr style=\"text-align: right;\">\n",
       "      <th></th>\n",
       "      <th>Years</th>\n",
       "      <th>Sales(In_Billions)</th>\n",
       "    </tr>\n",
       "  </thead>\n",
       "  <tbody>\n",
       "    <tr>\n",
       "      <th>1</th>\n",
       "      <td>2022</td>\n",
       "      <td>107</td>\n",
       "    </tr>\n",
       "    <tr>\n",
       "      <th>2</th>\n",
       "      <td>2021</td>\n",
       "      <td>105</td>\n",
       "    </tr>\n",
       "    <tr>\n",
       "      <th>3</th>\n",
       "      <td>2020</td>\n",
       "      <td>89</td>\n",
       "    </tr>\n",
       "    <tr>\n",
       "      <th>4</th>\n",
       "      <td>2019</td>\n",
       "      <td>91</td>\n",
       "    </tr>\n",
       "    <tr>\n",
       "      <th>5</th>\n",
       "      <td>2018</td>\n",
       "      <td>85</td>\n",
       "    </tr>\n",
       "    <tr>\n",
       "      <th>6</th>\n",
       "      <td>2017</td>\n",
       "      <td>80</td>\n",
       "    </tr>\n",
       "    <tr>\n",
       "      <th>7</th>\n",
       "      <td>2016</td>\n",
       "      <td>80</td>\n",
       "    </tr>\n",
       "    <tr>\n",
       "      <th>8</th>\n",
       "      <td>2015</td>\n",
       "      <td>73</td>\n",
       "    </tr>\n",
       "    <tr>\n",
       "      <th>9</th>\n",
       "      <td>2014</td>\n",
       "      <td>70</td>\n",
       "    </tr>\n",
       "    <tr>\n",
       "      <th>10</th>\n",
       "      <td>2013</td>\n",
       "      <td>68</td>\n",
       "    </tr>\n",
       "    <tr>\n",
       "      <th>11</th>\n",
       "      <td>2012</td>\n",
       "      <td>68</td>\n",
       "    </tr>\n",
       "    <tr>\n",
       "      <th>12</th>\n",
       "      <td>2011</td>\n",
       "      <td>63</td>\n",
       "    </tr>\n",
       "    <tr>\n",
       "      <th>13</th>\n",
       "      <td>2010</td>\n",
       "      <td>58</td>\n",
       "    </tr>\n",
       "    <tr>\n",
       "      <th>14</th>\n",
       "      <td>2009</td>\n",
       "      <td>58</td>\n",
       "    </tr>\n",
       "  </tbody>\n",
       "</table>\n",
       "</div>"
      ],
      "text/plain": [
       "   Years  Sales(In_Billions)\n",
       "1   2022                 107\n",
       "2   2021                 105\n",
       "3   2020                  89\n",
       "4   2019                  91\n",
       "5   2018                  85\n",
       "6   2017                  80\n",
       "7   2016                  80\n",
       "8   2015                  73\n",
       "9   2014                  70\n",
       "10  2013                  68\n",
       "11  2012                  68\n",
       "12  2011                  63\n",
       "13  2010                  58\n",
       "14  2009                  58"
      ]
     },
     "execution_count": 315,
     "metadata": {},
     "output_type": "execute_result"
    }
   ],
   "source": [
    "df2"
   ]
  },
  {
   "cell_type": "markdown",
   "id": "6affbff4",
   "metadata": {},
   "source": [
    "### The graph below shows how the Sale of Powerball has gone up.  We can conclude Sales have gone up, Jackpots have gone up and times hit have gone down.  I believe this is pretty good evidence of the shrinking Middle class.  That means that people aren't just buying 1 ticket.  People are buying multiple tickets, mostly in areas where there is a higher Wealth Inequality, but everywhere based on the data."
   ]
  },
  {
   "cell_type": "markdown",
   "id": "6db3a831",
   "metadata": {},
   "source": [
    "### Sales by Years Graph"
   ]
  },
  {
   "cell_type": "code",
   "execution_count": 318,
   "id": "9af4e1a7",
   "metadata": {
    "scrolled": true
   },
   "outputs": [
    {
     "data": {
      "image/png": "[encoded data removed]",
      "text/plain": [
       "<Figure size 500x400 with 1 Axes>"
      ]
     },
     "metadata": {},
     "output_type": "display_data"
    }
   ],
   "source": [
    "x = df2['Years']\n",
    "y = df2['Sales(In_Billions)']\n",
    "\n",
    "plt.bar(x, y)\n",
    "\n",
    "\n",
    "plt.title(\"Sales by Years\")\n",
    "plt.xlabel(\"Years\")\n",
    "plt.ylabel(\"Sales(In_Billions)\")\n",
    "\n",
    "plt.xticks(rotation=45)\n",
    "plt.ylim(min(y) * 0.9, max(y) * 1.1)\n",
    "\n",
    "plt.show()"
   ]
  },
  {
   "cell_type": "markdown",
   "id": "bf8bdc7b",
   "metadata": {},
   "source": [
    "### Converting Cleaned Dataframe to CSV for SQL and Tableau "
   ]
  },
  {
   "cell_type": "code",
   "execution_count": null,
   "id": "39700d2e",
   "metadata": {},
   "outputs": [],
   "source": [
    "#df.to_csv('Data_Explore_State_Powerball.csv')"
   ]
  }
 ],
 "metadata": {
  "kernelspec": {
   "display_name": "Python 3 (ipykernel)",
   "language": "python",
   "name": "python3"
  },
  "language_info": {
   "codemirror_mode": {
    "name": "ipython",
    "version": 3
   },
   "file_extension": ".py",
   "mimetype": "text/x-python",
   "name": "python",
   "nbconvert_exporter": "python",
   "pygments_lexer": "ipython3",
   "version": "3.10.9"
  }
 },
 "nbformat": 4,
 "nbformat_minor": 5
}

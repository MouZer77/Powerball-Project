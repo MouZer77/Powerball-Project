{
 "cells": [
  {
   "cell_type": "code",
   "execution_count": 2,
   "id": "6a3c52e6",
   "metadata": {},
   "outputs": [],
   "source": [
    "import sqlite3\n",
    "import pandas as pd\n",
    "import re"
   ]
  },
  {
   "cell_type": "code",
   "execution_count": 3,
   "id": "d8dc6b88",
   "metadata": {},
   "outputs": [],
   "source": [
    "conn = sqlite3.connect('Powerball_SQLDB.db')\n",
    "cursor = conn.cursor()\n",
    "cursor.execute('SELECT * FROM Joined_Table')\n",
    "conn.commit()\n",
    "results = cursor.fetchall()\n",
    "for row in results:\n",
    "    data = []\n",
    "    for row in results:\n",
    "        data.append(row[:47])\n",
    "    df = pd.DataFrame(data)\n",
    "\n",
    "conn.close()"
   ]
  },
  {
   "cell_type": "code",
   "execution_count": 4,
   "id": "520c03d9",
   "metadata": {},
   "outputs": [
    {
     "data": {
      "text/html": [
       "<div>\n",
       "<style scoped>\n",
       "    .dataframe tbody tr th:only-of-type {\n",
       "        vertical-align: middle;\n",
       "    }\n",
       "\n",
       "    .dataframe tbody tr th {\n",
       "        vertical-align: top;\n",
       "    }\n",
       "\n",
       "    .dataframe thead th {\n",
       "        text-align: right;\n",
       "    }\n",
       "</style>\n",
       "<table border=\"1\" class=\"dataframe\">\n",
       "  <thead>\n",
       "    <tr style=\"text-align: right;\">\n",
       "      <th></th>\n",
       "      <th>0</th>\n",
       "      <th>1</th>\n",
       "      <th>2</th>\n",
       "      <th>3</th>\n",
       "      <th>4</th>\n",
       "      <th>5</th>\n",
       "      <th>6</th>\n",
       "      <th>7</th>\n",
       "      <th>8</th>\n",
       "      <th>9</th>\n",
       "      <th>10</th>\n",
       "      <th>11</th>\n",
       "      <th>12</th>\n",
       "      <th>13</th>\n",
       "    </tr>\n",
       "  </thead>\n",
       "  <tbody>\n",
       "    <tr>\n",
       "      <th>0</th>\n",
       "      <td>181</td>\n",
       "      <td>2015-11-04</td>\n",
       "      <td>$144 Million</td>\n",
       "      <td>Avondale Revocable Trust</td>\n",
       "      <td>Tennessee</td>\n",
       "      <td>8</td>\n",
       "      <td>2015-11-04</td>\n",
       "      <td>2</td>\n",
       "      <td>12</td>\n",
       "      <td>17</td>\n",
       "      <td>20</td>\n",
       "      <td>65</td>\n",
       "      <td>17</td>\n",
       "      <td>4.0</td>\n",
       "    </tr>\n",
       "    <tr>\n",
       "      <th>1</th>\n",
       "      <td>182</td>\n",
       "      <td>2016-01-13</td>\n",
       "      <td>$1.58 Billion</td>\n",
       "      <td>Marvin and Mae Acosta</td>\n",
       "      <td>California</td>\n",
       "      <td>28</td>\n",
       "      <td>2016-01-13</td>\n",
       "      <td>4</td>\n",
       "      <td>8</td>\n",
       "      <td>19</td>\n",
       "      <td>27</td>\n",
       "      <td>34</td>\n",
       "      <td>10</td>\n",
       "      <td>2.0</td>\n",
       "    </tr>\n",
       "    <tr>\n",
       "      <th>2</th>\n",
       "      <td>185</td>\n",
       "      <td>2016-03-02</td>\n",
       "      <td>$291.4 Million</td>\n",
       "      <td>James Stocklas</td>\n",
       "      <td>Florida</td>\n",
       "      <td>42</td>\n",
       "      <td>2016-03-02</td>\n",
       "      <td>12</td>\n",
       "      <td>13</td>\n",
       "      <td>44</td>\n",
       "      <td>52</td>\n",
       "      <td>62</td>\n",
       "      <td>6</td>\n",
       "      <td>2.0</td>\n",
       "    </tr>\n",
       "    <tr>\n",
       "      <th>3</th>\n",
       "      <td>186</td>\n",
       "      <td>2016-05-07</td>\n",
       "      <td>$284 Million</td>\n",
       "      <td>The Smith Family Lottery Pool</td>\n",
       "      <td>New Jersey</td>\n",
       "      <td>61</td>\n",
       "      <td>2016-05-07</td>\n",
       "      <td>5</td>\n",
       "      <td>25</td>\n",
       "      <td>26</td>\n",
       "      <td>44</td>\n",
       "      <td>66</td>\n",
       "      <td>9</td>\n",
       "      <td>2.0</td>\n",
       "    </tr>\n",
       "    <tr>\n",
       "      <th>4</th>\n",
       "      <td>187</td>\n",
       "      <td>2016-07-30</td>\n",
       "      <td>$487 Million</td>\n",
       "      <td>Robin Egg 2016 Nominee Trust</td>\n",
       "      <td>New Hampshire</td>\n",
       "      <td>85</td>\n",
       "      <td>2016-07-30</td>\n",
       "      <td>11</td>\n",
       "      <td>17</td>\n",
       "      <td>21</td>\n",
       "      <td>23</td>\n",
       "      <td>32</td>\n",
       "      <td>5</td>\n",
       "      <td>2.0</td>\n",
       "    </tr>\n",
       "    <tr>\n",
       "      <th>5</th>\n",
       "      <td>188</td>\n",
       "      <td>2016-09-17</td>\n",
       "      <td>$246 Million</td>\n",
       "      <td>William and Heather ten Broeke</td>\n",
       "      <td>Georgia</td>\n",
       "      <td>99</td>\n",
       "      <td>2016-09-17</td>\n",
       "      <td>9</td>\n",
       "      <td>19</td>\n",
       "      <td>51</td>\n",
       "      <td>55</td>\n",
       "      <td>62</td>\n",
       "      <td>14</td>\n",
       "      <td>4.0</td>\n",
       "    </tr>\n",
       "    <tr>\n",
       "      <th>6</th>\n",
       "      <td>189</td>\n",
       "      <td>2016-11-26</td>\n",
       "      <td>$420.9 Million</td>\n",
       "      <td>Tennessee 20</td>\n",
       "      <td>Tennessee</td>\n",
       "      <td>119</td>\n",
       "      <td>2016-11-26</td>\n",
       "      <td>17</td>\n",
       "      <td>19</td>\n",
       "      <td>21</td>\n",
       "      <td>37</td>\n",
       "      <td>44</td>\n",
       "      <td>16</td>\n",
       "      <td>2.0</td>\n",
       "    </tr>\n",
       "    <tr>\n",
       "      <th>7</th>\n",
       "      <td>190</td>\n",
       "      <td>2016-12-17</td>\n",
       "      <td>$121.6 Million</td>\n",
       "      <td>Not Disclosed</td>\n",
       "      <td>DE</td>\n",
       "      <td>125</td>\n",
       "      <td>2016-12-17</td>\n",
       "      <td>1</td>\n",
       "      <td>8</td>\n",
       "      <td>16</td>\n",
       "      <td>40</td>\n",
       "      <td>48</td>\n",
       "      <td>10</td>\n",
       "      <td>2.0</td>\n",
       "    </tr>\n",
       "  </tbody>\n",
       "</table>\n",
       "</div>"
      ],
      "text/plain": [
       "    0           1               2                               3   \\\n",
       "0  181  2015-11-04    $144 Million        Avondale Revocable Trust   \n",
       "1  182  2016-01-13   $1.58 Billion           Marvin and Mae Acosta   \n",
       "2  185  2016-03-02  $291.4 Million                  James Stocklas   \n",
       "3  186  2016-05-07    $284 Million   The Smith Family Lottery Pool   \n",
       "4  187  2016-07-30    $487 Million    Robin Egg 2016 Nominee Trust   \n",
       "5  188  2016-09-17    $246 Million  William and Heather ten Broeke   \n",
       "6  189  2016-11-26  $420.9 Million                    Tennessee 20   \n",
       "7  190  2016-12-17  $121.6 Million                   Not Disclosed   \n",
       "\n",
       "              4    5           6   7   8   9   10  11  12   13  \n",
       "0      Tennessee    8  2015-11-04   2  12  17  20  65  17  4.0  \n",
       "1     California   28  2016-01-13   4   8  19  27  34  10  2.0  \n",
       "2        Florida   42  2016-03-02  12  13  44  52  62   6  2.0  \n",
       "3     New Jersey   61  2016-05-07   5  25  26  44  66   9  2.0  \n",
       "4  New Hampshire   85  2016-07-30  11  17  21  23  32   5  2.0  \n",
       "5        Georgia   99  2016-09-17   9  19  51  55  62  14  4.0  \n",
       "6      Tennessee  119  2016-11-26  17  19  21  37  44  16  2.0  \n",
       "7             DE  125  2016-12-17   1   8  16  40  48  10  2.0  "
      ]
     },
     "execution_count": 4,
     "metadata": {},
     "output_type": "execute_result"
    }
   ],
   "source": [
    "df.head(8)"
   ]
  },
  {
   "cell_type": "code",
   "execution_count": 5,
   "id": "3b6a7fd5",
   "metadata": {
    "scrolled": true
   },
   "outputs": [
    {
     "data": {
      "text/html": [
       "<div>\n",
       "<style scoped>\n",
       "    .dataframe tbody tr th:only-of-type {\n",
       "        vertical-align: middle;\n",
       "    }\n",
       "\n",
       "    .dataframe tbody tr th {\n",
       "        vertical-align: top;\n",
       "    }\n",
       "\n",
       "    .dataframe thead th {\n",
       "        text-align: right;\n",
       "    }\n",
       "</style>\n",
       "<table border=\"1\" class=\"dataframe\">\n",
       "  <thead>\n",
       "    <tr style=\"text-align: right;\">\n",
       "      <th></th>\n",
       "      <th>Index</th>\n",
       "      <th>Draw_date</th>\n",
       "      <th>Jackpot_Prize</th>\n",
       "      <th>Winners</th>\n",
       "      <th>State</th>\n",
       "      <th>Index_2</th>\n",
       "      <th>Draw_Date2</th>\n",
       "      <th>WB1</th>\n",
       "      <th>WB2</th>\n",
       "      <th>WB3</th>\n",
       "      <th>WB4</th>\n",
       "      <th>WB5</th>\n",
       "      <th>PB</th>\n",
       "      <th>Multiplier</th>\n",
       "    </tr>\n",
       "  </thead>\n",
       "  <tbody>\n",
       "    <tr>\n",
       "      <th>0</th>\n",
       "      <td>181</td>\n",
       "      <td>2015-11-04</td>\n",
       "      <td>$144 Million</td>\n",
       "      <td>Avondale Revocable Trust</td>\n",
       "      <td>Tennessee</td>\n",
       "      <td>8</td>\n",
       "      <td>2015-11-04</td>\n",
       "      <td>2</td>\n",
       "      <td>12</td>\n",
       "      <td>17</td>\n",
       "      <td>20</td>\n",
       "      <td>65</td>\n",
       "      <td>17</td>\n",
       "      <td>4.0</td>\n",
       "    </tr>\n",
       "    <tr>\n",
       "      <th>1</th>\n",
       "      <td>182</td>\n",
       "      <td>2016-01-13</td>\n",
       "      <td>$1.58 Billion</td>\n",
       "      <td>Marvin and Mae Acosta</td>\n",
       "      <td>California</td>\n",
       "      <td>28</td>\n",
       "      <td>2016-01-13</td>\n",
       "      <td>4</td>\n",
       "      <td>8</td>\n",
       "      <td>19</td>\n",
       "      <td>27</td>\n",
       "      <td>34</td>\n",
       "      <td>10</td>\n",
       "      <td>2.0</td>\n",
       "    </tr>\n",
       "    <tr>\n",
       "      <th>2</th>\n",
       "      <td>185</td>\n",
       "      <td>2016-03-02</td>\n",
       "      <td>$291.4 Million</td>\n",
       "      <td>James Stocklas</td>\n",
       "      <td>Florida</td>\n",
       "      <td>42</td>\n",
       "      <td>2016-03-02</td>\n",
       "      <td>12</td>\n",
       "      <td>13</td>\n",
       "      <td>44</td>\n",
       "      <td>52</td>\n",
       "      <td>62</td>\n",
       "      <td>6</td>\n",
       "      <td>2.0</td>\n",
       "    </tr>\n",
       "    <tr>\n",
       "      <th>3</th>\n",
       "      <td>186</td>\n",
       "      <td>2016-05-07</td>\n",
       "      <td>$284 Million</td>\n",
       "      <td>The Smith Family Lottery Pool</td>\n",
       "      <td>New Jersey</td>\n",
       "      <td>61</td>\n",
       "      <td>2016-05-07</td>\n",
       "      <td>5</td>\n",
       "      <td>25</td>\n",
       "      <td>26</td>\n",
       "      <td>44</td>\n",
       "      <td>66</td>\n",
       "      <td>9</td>\n",
       "      <td>2.0</td>\n",
       "    </tr>\n",
       "    <tr>\n",
       "      <th>4</th>\n",
       "      <td>187</td>\n",
       "      <td>2016-07-30</td>\n",
       "      <td>$487 Million</td>\n",
       "      <td>Robin Egg 2016 Nominee Trust</td>\n",
       "      <td>New Hampshire</td>\n",
       "      <td>85</td>\n",
       "      <td>2016-07-30</td>\n",
       "      <td>11</td>\n",
       "      <td>17</td>\n",
       "      <td>21</td>\n",
       "      <td>23</td>\n",
       "      <td>32</td>\n",
       "      <td>5</td>\n",
       "      <td>2.0</td>\n",
       "    </tr>\n",
       "    <tr>\n",
       "      <th>5</th>\n",
       "      <td>188</td>\n",
       "      <td>2016-09-17</td>\n",
       "      <td>$246 Million</td>\n",
       "      <td>William and Heather ten Broeke</td>\n",
       "      <td>Georgia</td>\n",
       "      <td>99</td>\n",
       "      <td>2016-09-17</td>\n",
       "      <td>9</td>\n",
       "      <td>19</td>\n",
       "      <td>51</td>\n",
       "      <td>55</td>\n",
       "      <td>62</td>\n",
       "      <td>14</td>\n",
       "      <td>4.0</td>\n",
       "    </tr>\n",
       "    <tr>\n",
       "      <th>6</th>\n",
       "      <td>189</td>\n",
       "      <td>2016-11-26</td>\n",
       "      <td>$420.9 Million</td>\n",
       "      <td>Tennessee 20</td>\n",
       "      <td>Tennessee</td>\n",
       "      <td>119</td>\n",
       "      <td>2016-11-26</td>\n",
       "      <td>17</td>\n",
       "      <td>19</td>\n",
       "      <td>21</td>\n",
       "      <td>37</td>\n",
       "      <td>44</td>\n",
       "      <td>16</td>\n",
       "      <td>2.0</td>\n",
       "    </tr>\n",
       "    <tr>\n",
       "      <th>7</th>\n",
       "      <td>190</td>\n",
       "      <td>2016-12-17</td>\n",
       "      <td>$121.6 Million</td>\n",
       "      <td>Not Disclosed</td>\n",
       "      <td>DE</td>\n",
       "      <td>125</td>\n",
       "      <td>2016-12-17</td>\n",
       "      <td>1</td>\n",
       "      <td>8</td>\n",
       "      <td>16</td>\n",
       "      <td>40</td>\n",
       "      <td>48</td>\n",
       "      <td>10</td>\n",
       "      <td>2.0</td>\n",
       "    </tr>\n",
       "  </tbody>\n",
       "</table>\n",
       "</div>"
      ],
      "text/plain": [
       "  Index   Draw_date   Jackpot_Prize                         Winners  \\\n",
       "0   181  2015-11-04    $144 Million        Avondale Revocable Trust   \n",
       "1   182  2016-01-13   $1.58 Billion           Marvin and Mae Acosta   \n",
       "2   185  2016-03-02  $291.4 Million                  James Stocklas   \n",
       "3   186  2016-05-07    $284 Million   The Smith Family Lottery Pool   \n",
       "4   187  2016-07-30    $487 Million    Robin Egg 2016 Nominee Trust   \n",
       "5   188  2016-09-17    $246 Million  William and Heather ten Broeke   \n",
       "6   189  2016-11-26  $420.9 Million                    Tennessee 20   \n",
       "7   190  2016-12-17  $121.6 Million                   Not Disclosed   \n",
       "\n",
       "           State Index_2  Draw_Date2 WB1 WB2 WB3 WB4 WB5  PB Multiplier  \n",
       "0      Tennessee       8  2015-11-04   2  12  17  20  65  17        4.0  \n",
       "1     California      28  2016-01-13   4   8  19  27  34  10        2.0  \n",
       "2        Florida      42  2016-03-02  12  13  44  52  62   6        2.0  \n",
       "3     New Jersey      61  2016-05-07   5  25  26  44  66   9        2.0  \n",
       "4  New Hampshire      85  2016-07-30  11  17  21  23  32   5        2.0  \n",
       "5        Georgia      99  2016-09-17   9  19  51  55  62  14        4.0  \n",
       "6      Tennessee     119  2016-11-26  17  19  21  37  44  16        2.0  \n",
       "7             DE     125  2016-12-17   1   8  16  40  48  10        2.0  "
      ]
     },
     "execution_count": 5,
     "metadata": {},
     "output_type": "execute_result"
    }
   ],
   "source": [
    "df.columns = ['Index', 'Draw_date', 'Jackpot_Prize', 'Winners', 'State', 'Index_2', \"Draw_Date2\", \"WB1\", \"WB2\", 'WB3', 'WB4', 'WB5', 'PB', 'Multiplier']\n",
    "df.head(8)"
   ]
  },
  {
   "cell_type": "markdown",
   "id": "c88a173b",
   "metadata": {},
   "source": [
    "## I dont want to drop these one by one, but this DF is weird"
   ]
  },
  {
   "cell_type": "code",
   "execution_count": 6,
   "id": "92a1fde5",
   "metadata": {},
   "outputs": [],
   "source": [
    "df = df.drop('Index', axis=1)"
   ]
  },
  {
   "cell_type": "code",
   "execution_count": 7,
   "id": "9c86ff03",
   "metadata": {},
   "outputs": [],
   "source": [
    "df = df.drop('Index_2', axis=1)"
   ]
  },
  {
   "cell_type": "code",
   "execution_count": 8,
   "id": "f905f926",
   "metadata": {},
   "outputs": [],
   "source": [
    "df = df.drop('Winners', axis=1)"
   ]
  },
  {
   "cell_type": "code",
   "execution_count": 9,
   "id": "b1c012bf",
   "metadata": {},
   "outputs": [],
   "source": [
    "df = df.drop('Draw_Date2', axis=1)"
   ]
  },
  {
   "cell_type": "code",
   "execution_count": 10,
   "id": "fa81d0a0",
   "metadata": {},
   "outputs": [],
   "source": [
    "df = df.drop('Multiplier', axis=1)"
   ]
  },
  {
   "cell_type": "code",
   "execution_count": 11,
   "id": "4c69f6e3",
   "metadata": {
    "scrolled": true
   },
   "outputs": [
    {
     "data": {
      "text/plain": [
       "Draw_date   Jackpot_Prize   State       WB1  WB2  WB3  WB4  WB5  PB\n",
       "2015-11-04  $144 Million    Tennessee   2    12   17   20   65   17    1\n",
       "2020-09-16  $94 Million     New York    10   17   31   51   53   1     1\n",
       "2019-09-04  $80 Million     New York    4    8    30   52   59   2     1\n",
       "2019-09-21  $80 Million     Michigan    1    9    22   36   68   22    1\n",
       "2019-11-02  $150 Million    California  3    23   32   37   58   22    1\n",
       "2020-01-29  $396.9 Million  Florida     9    12   15   31   60   2     1\n",
       "2020-02-15  $70 Million     Michigan    16   32   35   36   46   3     1\n",
       "2020-04-08  $190 Million    New Jersey  2    37   39   48   54   5     1\n",
       "Name: count, dtype: int64"
      ]
     },
     "execution_count": 11,
     "metadata": {},
     "output_type": "execute_result"
    }
   ],
   "source": [
    "df.value_counts().head(8)"
   ]
  },
  {
   "cell_type": "code",
   "execution_count": 12,
   "id": "fcef984d",
   "metadata": {},
   "outputs": [
    {
     "data": {
      "text/plain": [
       "0    52\n",
       "dtype: object"
      ]
     },
     "execution_count": 12,
     "metadata": {},
     "output_type": "execute_result"
    }
   ],
   "source": [
    "merged = pd.concat([df['WB1'], df['WB2'], df['WB3'], df['WB4'], df['WB5']])\n",
    "merged.mode()"
   ]
  },
  {
   "cell_type": "code",
   "execution_count": 13,
   "id": "50b578bc",
   "metadata": {},
   "outputs": [
    {
     "data": {
      "text/plain": [
       "52    8\n",
       "9     7\n",
       "17    7\n",
       "12    6\n",
       "8     6\n",
       "44    6\n",
       "6     6\n",
       "27    6\n",
       "Name: count, dtype: int64"
      ]
     },
     "execution_count": 13,
     "metadata": {},
     "output_type": "execute_result"
    }
   ],
   "source": [
    "merged.value_counts().head(8)"
   ]
  },
  {
   "cell_type": "code",
   "execution_count": 14,
   "id": "a171b995",
   "metadata": {
    "scrolled": false
   },
   "outputs": [
    {
     "name": "stdout",
     "output_type": "stream",
     "text": [
      "PB\n",
      "17    4\n",
      "4     4\n",
      "24    4\n",
      "22    3\n",
      "14    3\n",
      "Name: count, dtype: int64\n"
     ]
    }
   ],
   "source": [
    "numbers_frequency = df['PB'].value_counts()\n",
    "top_5_numbers_frequency = numbers_frequency.head(5)\n",
    "print(top_5_numbers_frequency)"
   ]
  },
  {
   "cell_type": "code",
   "execution_count": 15,
   "id": "0bcfcc40",
   "metadata": {},
   "outputs": [
    {
     "name": "stdout",
     "output_type": "stream",
     "text": [
      "State\n",
      "New York      6\n",
      "Florida       5\n",
      "New Jersey    5\n",
      "Wisconsin     4\n",
      "Tennessee     3\n",
      "Name: count, dtype: int64\n"
     ]
    }
   ],
   "source": [
    "numbers_frequency = df['State'].value_counts()\n",
    "top_5_numbers_frequency = numbers_frequency.head(5)\n",
    "print(top_5_numbers_frequency)"
   ]
  },
  {
   "cell_type": "code",
   "execution_count": 16,
   "id": "5189769f",
   "metadata": {
    "scrolled": true
   },
   "outputs": [],
   "source": [
    "def convert_to_numeric(x):\n",
    "    return int(re.findall(r'\\d+', x)[0])\n",
    "\n",
    "money = df['Jackpot_Prize'].map(convert_to_numeric)\n",
    "df['Jackpot_Prize'] = money"
   ]
  },
  {
   "cell_type": "code",
   "execution_count": 17,
   "id": "54286897",
   "metadata": {
    "scrolled": true
   },
   "outputs": [
    {
     "data": {
      "text/html": [
       "<div>\n",
       "<style scoped>\n",
       "    .dataframe tbody tr th:only-of-type {\n",
       "        vertical-align: middle;\n",
       "    }\n",
       "\n",
       "    .dataframe tbody tr th {\n",
       "        vertical-align: top;\n",
       "    }\n",
       "\n",
       "    .dataframe thead th {\n",
       "        text-align: right;\n",
       "    }\n",
       "</style>\n",
       "<table border=\"1\" class=\"dataframe\">\n",
       "  <thead>\n",
       "    <tr style=\"text-align: right;\">\n",
       "      <th></th>\n",
       "      <th>Draw_date</th>\n",
       "      <th>Jackpot_Prize</th>\n",
       "      <th>State</th>\n",
       "      <th>WB1</th>\n",
       "      <th>WB2</th>\n",
       "      <th>WB3</th>\n",
       "      <th>WB4</th>\n",
       "      <th>WB5</th>\n",
       "      <th>PB</th>\n",
       "    </tr>\n",
       "  </thead>\n",
       "  <tbody>\n",
       "    <tr>\n",
       "      <th>0</th>\n",
       "      <td>2015-11-04</td>\n",
       "      <td>144</td>\n",
       "      <td>Tennessee</td>\n",
       "      <td>2</td>\n",
       "      <td>12</td>\n",
       "      <td>17</td>\n",
       "      <td>20</td>\n",
       "      <td>65</td>\n",
       "      <td>17</td>\n",
       "    </tr>\n",
       "    <tr>\n",
       "      <th>1</th>\n",
       "      <td>2016-01-13</td>\n",
       "      <td>1</td>\n",
       "      <td>California</td>\n",
       "      <td>4</td>\n",
       "      <td>8</td>\n",
       "      <td>19</td>\n",
       "      <td>27</td>\n",
       "      <td>34</td>\n",
       "      <td>10</td>\n",
       "    </tr>\n",
       "    <tr>\n",
       "      <th>2</th>\n",
       "      <td>2016-03-02</td>\n",
       "      <td>291</td>\n",
       "      <td>Florida</td>\n",
       "      <td>12</td>\n",
       "      <td>13</td>\n",
       "      <td>44</td>\n",
       "      <td>52</td>\n",
       "      <td>62</td>\n",
       "      <td>6</td>\n",
       "    </tr>\n",
       "    <tr>\n",
       "      <th>3</th>\n",
       "      <td>2016-05-07</td>\n",
       "      <td>284</td>\n",
       "      <td>New Jersey</td>\n",
       "      <td>5</td>\n",
       "      <td>25</td>\n",
       "      <td>26</td>\n",
       "      <td>44</td>\n",
       "      <td>66</td>\n",
       "      <td>9</td>\n",
       "    </tr>\n",
       "    <tr>\n",
       "      <th>4</th>\n",
       "      <td>2016-07-30</td>\n",
       "      <td>487</td>\n",
       "      <td>New Hampshire</td>\n",
       "      <td>11</td>\n",
       "      <td>17</td>\n",
       "      <td>21</td>\n",
       "      <td>23</td>\n",
       "      <td>32</td>\n",
       "      <td>5</td>\n",
       "    </tr>\n",
       "    <tr>\n",
       "      <th>5</th>\n",
       "      <td>2016-09-17</td>\n",
       "      <td>246</td>\n",
       "      <td>Georgia</td>\n",
       "      <td>9</td>\n",
       "      <td>19</td>\n",
       "      <td>51</td>\n",
       "      <td>55</td>\n",
       "      <td>62</td>\n",
       "      <td>14</td>\n",
       "    </tr>\n",
       "    <tr>\n",
       "      <th>6</th>\n",
       "      <td>2016-11-26</td>\n",
       "      <td>420</td>\n",
       "      <td>Tennessee</td>\n",
       "      <td>17</td>\n",
       "      <td>19</td>\n",
       "      <td>21</td>\n",
       "      <td>37</td>\n",
       "      <td>44</td>\n",
       "      <td>16</td>\n",
       "    </tr>\n",
       "    <tr>\n",
       "      <th>7</th>\n",
       "      <td>2016-12-17</td>\n",
       "      <td>121</td>\n",
       "      <td>DE</td>\n",
       "      <td>1</td>\n",
       "      <td>8</td>\n",
       "      <td>16</td>\n",
       "      <td>40</td>\n",
       "      <td>48</td>\n",
       "      <td>10</td>\n",
       "    </tr>\n",
       "  </tbody>\n",
       "</table>\n",
       "</div>"
      ],
      "text/plain": [
       "    Draw_date  Jackpot_Prize          State WB1 WB2 WB3 WB4 WB5  PB\n",
       "0  2015-11-04            144      Tennessee   2  12  17  20  65  17\n",
       "1  2016-01-13              1     California   4   8  19  27  34  10\n",
       "2  2016-03-02            291        Florida  12  13  44  52  62   6\n",
       "3  2016-05-07            284     New Jersey   5  25  26  44  66   9\n",
       "4  2016-07-30            487  New Hampshire  11  17  21  23  32   5\n",
       "5  2016-09-17            246        Georgia   9  19  51  55  62  14\n",
       "6  2016-11-26            420      Tennessee  17  19  21  37  44  16\n",
       "7  2016-12-17            121             DE   1   8  16  40  48  10"
      ]
     },
     "execution_count": 17,
     "metadata": {},
     "output_type": "execute_result"
    }
   ],
   "source": [
    "df.head(8)"
   ]
  },
  {
   "cell_type": "code",
   "execution_count": 18,
   "id": "29cf87ee",
   "metadata": {},
   "outputs": [],
   "source": [
    "df = df.rename(columns={'Jackpot_Prize': 'Jackpot_Prize(Millions)'})"
   ]
  },
  {
   "cell_type": "code",
   "execution_count": 19,
   "id": "74b355f6",
   "metadata": {},
   "outputs": [],
   "source": [
    "df.loc[1, 'Jackpot_Prize(Millions)'] = 1580 #Modified to 1000 from 1, because it's a billion"
   ]
  },
  {
   "cell_type": "code",
   "execution_count": 20,
   "id": "5ae08648",
   "metadata": {
    "scrolled": true
   },
   "outputs": [
    {
     "data": {
      "text/plain": [
       "0     74.88\n",
       "1    821.60\n",
       "2    151.32\n",
       "3    147.68\n",
       "4    253.24\n",
       "5    127.92\n",
       "6    218.40\n",
       "7     62.92\n",
       "Name: Jackpot_Prize(Millions), dtype: float64"
      ]
     },
     "execution_count": 20,
     "metadata": {},
     "output_type": "execute_result"
    }
   ],
   "source": [
    "#The lump sum amount after Taxes of approx. 52%  In Millions\n",
    "lump_sum = df['Jackpot_Prize(Millions)'] * .52\n",
    "lump_sum.head(8)"
   ]
  },
  {
   "cell_type": "code",
   "execution_count": 21,
   "id": "a21b1ce6",
   "metadata": {
    "scrolled": true
   },
   "outputs": [
    {
     "data": {
      "text/plain": [
       "0     69.12\n",
       "1    758.40\n",
       "2    139.68\n",
       "3    136.32\n",
       "4    233.76\n",
       "5    118.08\n",
       "6    201.60\n",
       "7     58.08\n",
       "Name: Jackpot_Prize(Millions), dtype: float64"
      ]
     },
     "execution_count": 21,
     "metadata": {},
     "output_type": "execute_result"
    }
   ],
   "source": [
    "#Amount paid in Taxes in Millions\n",
    "lump_sum_tax_amount = df['Jackpot_Prize(Millions)'] * .48\n",
    "lump_sum_tax_amount.head(8)"
   ]
  },
  {
   "cell_type": "code",
   "execution_count": 22,
   "id": "d07f522e",
   "metadata": {
    "scrolled": true
   },
   "outputs": [
    {
     "data": {
      "text/plain": [
       "0     3.024\n",
       "1    33.180\n",
       "2     6.111\n",
       "3     5.964\n",
       "4    10.227\n",
       "5     5.166\n",
       "6     8.820\n",
       "7     2.541\n",
       "Name: Jackpot_Prize(Millions), dtype: float64"
      ]
     },
     "execution_count": 22,
     "metadata": {},
     "output_type": "execute_result"
    }
   ],
   "source": [
    "#The average the Winner would recieve each year, over 30 years.  After taxes.  In Millions.\n",
    "annuity = df['Jackpot_Prize(Millions)'] / 30\n",
    "annuity = annuity * .63\n",
    "annuity.head(8)"
   ]
  },
  {
   "cell_type": "code",
   "execution_count": 23,
   "id": "41bcc78d",
   "metadata": {
    "scrolled": true
   },
   "outputs": [
    {
     "data": {
      "text/plain": [
       "0     1.776000\n",
       "1    19.486667\n",
       "2     3.589000\n",
       "3     3.502667\n",
       "4     6.006333\n",
       "5     3.034000\n",
       "6     5.180000\n",
       "7     1.492333\n",
       "Name: Jackpot_Prize(Millions), dtype: float64"
      ]
     },
     "execution_count": 23,
     "metadata": {},
     "output_type": "execute_result"
    }
   ],
   "source": [
    "# Amount paid every year for winner annuity in Taxes, in Millions \n",
    "annuity_taxes_paid = df['Jackpot_Prize(Millions)'] / 30\n",
    "annuity_taxes_paid = annuity_taxes_paid * .37\n",
    "annuity_taxes_paid.head(8)"
   ]
  },
  {
   "cell_type": "code",
   "execution_count": 24,
   "id": "f0e2fa17",
   "metadata": {
    "scrolled": true
   },
   "outputs": [],
   "source": [
    "#df.to_csv('SQLite_Table_DB.csv')"
   ]
  }
 ],
 "metadata": {
  "kernelspec": {
   "display_name": "Python 3 (ipykernel)",
   "language": "python",
   "name": "python3"
  },
  "language_info": {
   "codemirror_mode": {
    "name": "ipython",
    "version": 3
   },
   "file_extension": ".py",
   "mimetype": "text/x-python",
   "name": "python",
   "nbconvert_exporter": "python",
   "pygments_lexer": "ipython3",
   "version": "3.10.9"
  }
 },
 "nbformat": 4,
 "nbformat_minor": 5
}

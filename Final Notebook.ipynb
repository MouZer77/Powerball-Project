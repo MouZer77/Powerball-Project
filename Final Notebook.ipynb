{
 "cells": [
  {
   "cell_type": "code",
   "execution_count": 640,
   "id": "9de480f1",
   "metadata": {},
   "outputs": [],
   "source": [
    "import pandas as pd\n",
    "import matplotlib.pylab as plt\n",
    "import seaborn as sns\n",
    "import numpy as np\n",
    "plt.style.use('ggplot')\n",
    "import re #For reference, re is regular expression support and can be used to search for patterns in STR's\n",
    "import requests\n",
    "from bs4 import BeautifulSoup\n",
    "import datetime as dt"
   ]
  },
  {
   "cell_type": "markdown",
   "id": "e6d34d6c",
   "metadata": {},
   "source": [
    "## Contents\n",
    "\n",
    "1. [Introduction](#1.-Introduction)   \n",
    "    1.1 [The Powerball](#1.1-Powerball)   \n",
    "    1.2 [Data_and_Variance](#1.2-Data_and_Variance)    \n",
    "   \n",
    "2. [Methods](#2.-Methods)        \n",
    "   \n",
    "3. [The_Best_Odds](#3.-Powerball_Stats)    \n",
    "    3.1 [States](#3.1-States)   \n",
    "    3.2 [Jackpots](#3.2-Jackpots)   \n",
    "    3.3 [Days](#3.3-Days)   \n",
    "    3.4 [The Numbers](#3.4-The_Numbers)   \n",
    "    3.5 [The Best](#3.5-The_Best)   \n",
    "    3.6 [Conclusion](#3.6-Conclusion)   \n",
    "4. [Life_and_The_Powerball](#3-Life_And_The_Powerball)   \n",
    "    4.1 [Growing](#4.1-Growing)   \n",
    "    4.1 [Gini_Coefficient](4.2-Gini_Coefficient)   \n",
    "   \n",
    "5. [Final_Word](#2.-Final_Word)        \n",
    "   "
   ]
  },
  {
   "cell_type": "markdown",
   "id": "4b3ca8e6",
   "metadata": {},
   "source": [
    "### 1. Introduction"
   ]
  },
  {
   "cell_type": "markdown",
   "id": "92e6f69f",
   "metadata": {},
   "source": [
    "For my Project and to demonstrate the skills that I have developed in Code Louisville, I selected the Powerball.  I picked this topic because I was curious if there was any way to game the system and try to find some kind of statistical advantage that would increase the odds of winning.  In my time exploring that information I got to thinking about a few other things:  Finding and using the most occuring numbers is all good, but could we set ourselves up for the BEST case to win?  So I have analyzed the best State to play, the best Jackpot amount to play even the best day to play!  Then I got to thinking about the Why?  Why do people play Powerball? The odds of winning are so low it's actually hard to really understand how small it is.  In looking into this I think I discovered the underlying reason for who plays the Powerball and why.  Let's go!\n",
    "\n",
    "(As a side note, the info here is an amalgamation of hours and hours of analysis that has been written in several Jupyter Notebooks in my Github for this project.  These are just the highlights to prove my point.  If for some reason you want to see all my work, it's all there)"
   ]
  },
  {
   "cell_type": "markdown",
   "id": "4e5bc015",
   "metadata": {},
   "source": [
    "#### 1.1 The Powerball"
   ]
  },
  {
   "cell_type": "markdown",
   "id": "5d0be4e7",
   "metadata": {},
   "source": [
    "The Powerball is a lottery game that most states participate in, where 5 numbers in a range of 1-69 are drawn with a final 'Powerball' being drawn with a numeric range of 1-26.  The objective is for the individual to pick all the numbers that are drawn at random and then you are given so much money.  Easy, right?  Well the odds of winning the powerball is 1 in 292.2 million.  So, no.  Yet still, the Powerball has grown in popularity year over year and as the population grows so does the participation in the Powerball.  "
   ]
  },
  {
   "cell_type": "markdown",
   "id": "ce49bf8a",
   "metadata": {},
   "source": [
    "#### 1.2 Data and Variance"
   ]
  },
  {
   "cell_type": "markdown",
   "id": "c795d4fa",
   "metadata": {},
   "source": [
    "In my exploration of the data I had gathered I discovered that there was a issue with the min max of some of my data.  Come to find out, there was a rule change of the range of the PowerBall.  Looking into this weirdness, apparently in 2015 Powerball changed their Rules on how the game is played as they expanded states to increase the odds of winning, they changed the range of the actual PowerBall from 1-39 to 1-26, to get more people to play.  So I excluded the data up to the switch date for when trying to calculate the best way to win, so that it will all be uniformed with the current ruleset.  I kept the states data as they are."
   ]
  },
  {
   "cell_type": "markdown",
   "id": "d4626c32",
   "metadata": {},
   "source": [
    "### 2. Methods"
   ]
  },
  {
   "cell_type": "markdown",
   "id": "2d18cdc2",
   "metadata": {},
   "source": [
    "For my process in how to accomplish these tasks I utilized mostly Python in the IDE Jupyter Notebook.  Most of my Web Scrapers I did in PyCharm Community Edition, except for one which I used Jupyter.  I also performed several SQL merges and cleanings in the SQLite IDE DB Browser.  For my libraries I used Pandas, matplotlib, sqlite3, re, numpy, requests, beautifulsoup and seaborn. I also used Tableau for a few visualizations.  I found a few great resources for years of Powerball drawing number data, I also found a lot of statistics on websites that I used web scrapers that I designed to extract that info for formatting to dataframes in Pandas for analysis.  My approach was mostly to try to understand the problems at hand I wanted to address, collect the data, clean all the data up, explore and analyze, interpret the data, visualize it and find the story within it.  \n"
   ]
  },
  {
   "cell_type": "markdown",
   "id": "32824380",
   "metadata": {},
   "source": [
    "### 3. The Best Odds"
   ]
  },
  {
   "cell_type": "markdown",
   "id": "b48a6ee4",
   "metadata": {},
   "source": [
    "#### Running the DataFrames"
   ]
  },
  {
   "cell_type": "code",
   "execution_count": 641,
   "id": "d6bcaa9a",
   "metadata": {},
   "outputs": [
    {
     "ename": "FileNotFoundError",
     "evalue": "[Errno 2] No such file or directory: 'Powerball.csv'",
     "output_type": "error",
     "traceback": [
      "\u001b[1;31m---------------------------------------------------------------------------\u001b[0m",
      "\u001b[1;31mFileNotFoundError\u001b[0m                         Traceback (most recent call last)",
      "Cell \u001b[1;32mIn[641], line 1\u001b[0m\n\u001b[1;32m----> 1\u001b[0m df \u001b[38;5;241m=\u001b[39m \u001b[43mpd\u001b[49m\u001b[38;5;241;43m.\u001b[39;49m\u001b[43mread_csv\u001b[49m\u001b[43m(\u001b[49m\u001b[38;5;124;43mr\u001b[39;49m\u001b[38;5;124;43m\"\u001b[39;49m\u001b[38;5;124;43mPowerball.csv\u001b[39;49m\u001b[38;5;124;43m\"\u001b[39;49m\u001b[43m,\u001b[49m\u001b[43m \u001b[49m\u001b[43mencoding\u001b[49m\u001b[38;5;241;43m=\u001b[39;49m\u001b[38;5;124;43m'\u001b[39;49m\u001b[38;5;124;43mlatin-1\u001b[39;49m\u001b[38;5;124;43m'\u001b[39;49m\u001b[43m)\u001b[49m\n",
      "File \u001b[1;32m~\\anaconda3\\lib\\site-packages\\pandas\\io\\parsers\\readers.py:912\u001b[0m, in \u001b[0;36mread_csv\u001b[1;34m(filepath_or_buffer, sep, delimiter, header, names, index_col, usecols, dtype, engine, converters, true_values, false_values, skipinitialspace, skiprows, skipfooter, nrows, na_values, keep_default_na, na_filter, verbose, skip_blank_lines, parse_dates, infer_datetime_format, keep_date_col, date_parser, date_format, dayfirst, cache_dates, iterator, chunksize, compression, thousands, decimal, lineterminator, quotechar, quoting, doublequote, escapechar, comment, encoding, encoding_errors, dialect, on_bad_lines, delim_whitespace, low_memory, memory_map, float_precision, storage_options, dtype_backend)\u001b[0m\n\u001b[0;32m    899\u001b[0m kwds_defaults \u001b[38;5;241m=\u001b[39m _refine_defaults_read(\n\u001b[0;32m    900\u001b[0m     dialect,\n\u001b[0;32m    901\u001b[0m     delimiter,\n\u001b[1;32m   (...)\u001b[0m\n\u001b[0;32m    908\u001b[0m     dtype_backend\u001b[38;5;241m=\u001b[39mdtype_backend,\n\u001b[0;32m    909\u001b[0m )\n\u001b[0;32m    910\u001b[0m kwds\u001b[38;5;241m.\u001b[39mupdate(kwds_defaults)\n\u001b[1;32m--> 912\u001b[0m \u001b[38;5;28;01mreturn\u001b[39;00m \u001b[43m_read\u001b[49m\u001b[43m(\u001b[49m\u001b[43mfilepath_or_buffer\u001b[49m\u001b[43m,\u001b[49m\u001b[43m \u001b[49m\u001b[43mkwds\u001b[49m\u001b[43m)\u001b[49m\n",
      "File \u001b[1;32m~\\anaconda3\\lib\\site-packages\\pandas\\io\\parsers\\readers.py:577\u001b[0m, in \u001b[0;36m_read\u001b[1;34m(filepath_or_buffer, kwds)\u001b[0m\n\u001b[0;32m    574\u001b[0m _validate_names(kwds\u001b[38;5;241m.\u001b[39mget(\u001b[38;5;124m\"\u001b[39m\u001b[38;5;124mnames\u001b[39m\u001b[38;5;124m\"\u001b[39m, \u001b[38;5;28;01mNone\u001b[39;00m))\n\u001b[0;32m    576\u001b[0m \u001b[38;5;66;03m# Create the parser.\u001b[39;00m\n\u001b[1;32m--> 577\u001b[0m parser \u001b[38;5;241m=\u001b[39m TextFileReader(filepath_or_buffer, \u001b[38;5;241m*\u001b[39m\u001b[38;5;241m*\u001b[39mkwds)\n\u001b[0;32m    579\u001b[0m \u001b[38;5;28;01mif\u001b[39;00m chunksize \u001b[38;5;129;01mor\u001b[39;00m iterator:\n\u001b[0;32m    580\u001b[0m     \u001b[38;5;28;01mreturn\u001b[39;00m parser\n",
      "File \u001b[1;32m~\\anaconda3\\lib\\site-packages\\pandas\\io\\parsers\\readers.py:1407\u001b[0m, in \u001b[0;36mTextFileReader.__init__\u001b[1;34m(self, f, engine, **kwds)\u001b[0m\n\u001b[0;32m   1404\u001b[0m     \u001b[38;5;28mself\u001b[39m\u001b[38;5;241m.\u001b[39moptions[\u001b[38;5;124m\"\u001b[39m\u001b[38;5;124mhas_index_names\u001b[39m\u001b[38;5;124m\"\u001b[39m] \u001b[38;5;241m=\u001b[39m kwds[\u001b[38;5;124m\"\u001b[39m\u001b[38;5;124mhas_index_names\u001b[39m\u001b[38;5;124m\"\u001b[39m]\n\u001b[0;32m   1406\u001b[0m \u001b[38;5;28mself\u001b[39m\u001b[38;5;241m.\u001b[39mhandles: IOHandles \u001b[38;5;241m|\u001b[39m \u001b[38;5;28;01mNone\u001b[39;00m \u001b[38;5;241m=\u001b[39m \u001b[38;5;28;01mNone\u001b[39;00m\n\u001b[1;32m-> 1407\u001b[0m \u001b[38;5;28mself\u001b[39m\u001b[38;5;241m.\u001b[39m_engine \u001b[38;5;241m=\u001b[39m \u001b[38;5;28;43mself\u001b[39;49m\u001b[38;5;241;43m.\u001b[39;49m\u001b[43m_make_engine\u001b[49m\u001b[43m(\u001b[49m\u001b[43mf\u001b[49m\u001b[43m,\u001b[49m\u001b[43m \u001b[49m\u001b[38;5;28;43mself\u001b[39;49m\u001b[38;5;241;43m.\u001b[39;49m\u001b[43mengine\u001b[49m\u001b[43m)\u001b[49m\n",
      "File \u001b[1;32m~\\anaconda3\\lib\\site-packages\\pandas\\io\\parsers\\readers.py:1661\u001b[0m, in \u001b[0;36mTextFileReader._make_engine\u001b[1;34m(self, f, engine)\u001b[0m\n\u001b[0;32m   1659\u001b[0m     \u001b[38;5;28;01mif\u001b[39;00m \u001b[38;5;124m\"\u001b[39m\u001b[38;5;124mb\u001b[39m\u001b[38;5;124m\"\u001b[39m \u001b[38;5;129;01mnot\u001b[39;00m \u001b[38;5;129;01min\u001b[39;00m mode:\n\u001b[0;32m   1660\u001b[0m         mode \u001b[38;5;241m+\u001b[39m\u001b[38;5;241m=\u001b[39m \u001b[38;5;124m\"\u001b[39m\u001b[38;5;124mb\u001b[39m\u001b[38;5;124m\"\u001b[39m\n\u001b[1;32m-> 1661\u001b[0m \u001b[38;5;28mself\u001b[39m\u001b[38;5;241m.\u001b[39mhandles \u001b[38;5;241m=\u001b[39m \u001b[43mget_handle\u001b[49m\u001b[43m(\u001b[49m\n\u001b[0;32m   1662\u001b[0m \u001b[43m    \u001b[49m\u001b[43mf\u001b[49m\u001b[43m,\u001b[49m\n\u001b[0;32m   1663\u001b[0m \u001b[43m    \u001b[49m\u001b[43mmode\u001b[49m\u001b[43m,\u001b[49m\n\u001b[0;32m   1664\u001b[0m \u001b[43m    \u001b[49m\u001b[43mencoding\u001b[49m\u001b[38;5;241;43m=\u001b[39;49m\u001b[38;5;28;43mself\u001b[39;49m\u001b[38;5;241;43m.\u001b[39;49m\u001b[43moptions\u001b[49m\u001b[38;5;241;43m.\u001b[39;49m\u001b[43mget\u001b[49m\u001b[43m(\u001b[49m\u001b[38;5;124;43m\"\u001b[39;49m\u001b[38;5;124;43mencoding\u001b[39;49m\u001b[38;5;124;43m\"\u001b[39;49m\u001b[43m,\u001b[49m\u001b[43m \u001b[49m\u001b[38;5;28;43;01mNone\u001b[39;49;00m\u001b[43m)\u001b[49m\u001b[43m,\u001b[49m\n\u001b[0;32m   1665\u001b[0m \u001b[43m    \u001b[49m\u001b[43mcompression\u001b[49m\u001b[38;5;241;43m=\u001b[39;49m\u001b[38;5;28;43mself\u001b[39;49m\u001b[38;5;241;43m.\u001b[39;49m\u001b[43moptions\u001b[49m\u001b[38;5;241;43m.\u001b[39;49m\u001b[43mget\u001b[49m\u001b[43m(\u001b[49m\u001b[38;5;124;43m\"\u001b[39;49m\u001b[38;5;124;43mcompression\u001b[39;49m\u001b[38;5;124;43m\"\u001b[39;49m\u001b[43m,\u001b[49m\u001b[43m \u001b[49m\u001b[38;5;28;43;01mNone\u001b[39;49;00m\u001b[43m)\u001b[49m\u001b[43m,\u001b[49m\n\u001b[0;32m   1666\u001b[0m \u001b[43m    \u001b[49m\u001b[43mmemory_map\u001b[49m\u001b[38;5;241;43m=\u001b[39;49m\u001b[38;5;28;43mself\u001b[39;49m\u001b[38;5;241;43m.\u001b[39;49m\u001b[43moptions\u001b[49m\u001b[38;5;241;43m.\u001b[39;49m\u001b[43mget\u001b[49m\u001b[43m(\u001b[49m\u001b[38;5;124;43m\"\u001b[39;49m\u001b[38;5;124;43mmemory_map\u001b[39;49m\u001b[38;5;124;43m\"\u001b[39;49m\u001b[43m,\u001b[49m\u001b[43m \u001b[49m\u001b[38;5;28;43;01mFalse\u001b[39;49;00m\u001b[43m)\u001b[49m\u001b[43m,\u001b[49m\n\u001b[0;32m   1667\u001b[0m \u001b[43m    \u001b[49m\u001b[43mis_text\u001b[49m\u001b[38;5;241;43m=\u001b[39;49m\u001b[43mis_text\u001b[49m\u001b[43m,\u001b[49m\n\u001b[0;32m   1668\u001b[0m \u001b[43m    \u001b[49m\u001b[43merrors\u001b[49m\u001b[38;5;241;43m=\u001b[39;49m\u001b[38;5;28;43mself\u001b[39;49m\u001b[38;5;241;43m.\u001b[39;49m\u001b[43moptions\u001b[49m\u001b[38;5;241;43m.\u001b[39;49m\u001b[43mget\u001b[49m\u001b[43m(\u001b[49m\u001b[38;5;124;43m\"\u001b[39;49m\u001b[38;5;124;43mencoding_errors\u001b[39;49m\u001b[38;5;124;43m\"\u001b[39;49m\u001b[43m,\u001b[49m\u001b[43m \u001b[49m\u001b[38;5;124;43m\"\u001b[39;49m\u001b[38;5;124;43mstrict\u001b[39;49m\u001b[38;5;124;43m\"\u001b[39;49m\u001b[43m)\u001b[49m\u001b[43m,\u001b[49m\n\u001b[0;32m   1669\u001b[0m \u001b[43m    \u001b[49m\u001b[43mstorage_options\u001b[49m\u001b[38;5;241;43m=\u001b[39;49m\u001b[38;5;28;43mself\u001b[39;49m\u001b[38;5;241;43m.\u001b[39;49m\u001b[43moptions\u001b[49m\u001b[38;5;241;43m.\u001b[39;49m\u001b[43mget\u001b[49m\u001b[43m(\u001b[49m\u001b[38;5;124;43m\"\u001b[39;49m\u001b[38;5;124;43mstorage_options\u001b[39;49m\u001b[38;5;124;43m\"\u001b[39;49m\u001b[43m,\u001b[49m\u001b[43m \u001b[49m\u001b[38;5;28;43;01mNone\u001b[39;49;00m\u001b[43m)\u001b[49m\u001b[43m,\u001b[49m\n\u001b[0;32m   1670\u001b[0m \u001b[43m\u001b[49m\u001b[43m)\u001b[49m\n\u001b[0;32m   1671\u001b[0m \u001b[38;5;28;01massert\u001b[39;00m \u001b[38;5;28mself\u001b[39m\u001b[38;5;241m.\u001b[39mhandles \u001b[38;5;129;01mis\u001b[39;00m \u001b[38;5;129;01mnot\u001b[39;00m \u001b[38;5;28;01mNone\u001b[39;00m\n\u001b[0;32m   1672\u001b[0m f \u001b[38;5;241m=\u001b[39m \u001b[38;5;28mself\u001b[39m\u001b[38;5;241m.\u001b[39mhandles\u001b[38;5;241m.\u001b[39mhandle\n",
      "File \u001b[1;32m~\\anaconda3\\lib\\site-packages\\pandas\\io\\common.py:859\u001b[0m, in \u001b[0;36mget_handle\u001b[1;34m(path_or_buf, mode, encoding, compression, memory_map, is_text, errors, storage_options)\u001b[0m\n\u001b[0;32m    854\u001b[0m \u001b[38;5;28;01melif\u001b[39;00m \u001b[38;5;28misinstance\u001b[39m(handle, \u001b[38;5;28mstr\u001b[39m):\n\u001b[0;32m    855\u001b[0m     \u001b[38;5;66;03m# Check whether the filename is to be opened in binary mode.\u001b[39;00m\n\u001b[0;32m    856\u001b[0m     \u001b[38;5;66;03m# Binary mode does not support 'encoding' and 'newline'.\u001b[39;00m\n\u001b[0;32m    857\u001b[0m     \u001b[38;5;28;01mif\u001b[39;00m ioargs\u001b[38;5;241m.\u001b[39mencoding \u001b[38;5;129;01mand\u001b[39;00m \u001b[38;5;124m\"\u001b[39m\u001b[38;5;124mb\u001b[39m\u001b[38;5;124m\"\u001b[39m \u001b[38;5;129;01mnot\u001b[39;00m \u001b[38;5;129;01min\u001b[39;00m ioargs\u001b[38;5;241m.\u001b[39mmode:\n\u001b[0;32m    858\u001b[0m         \u001b[38;5;66;03m# Encoding\u001b[39;00m\n\u001b[1;32m--> 859\u001b[0m         handle \u001b[38;5;241m=\u001b[39m \u001b[38;5;28;43mopen\u001b[39;49m\u001b[43m(\u001b[49m\n\u001b[0;32m    860\u001b[0m \u001b[43m            \u001b[49m\u001b[43mhandle\u001b[49m\u001b[43m,\u001b[49m\n\u001b[0;32m    861\u001b[0m \u001b[43m            \u001b[49m\u001b[43mioargs\u001b[49m\u001b[38;5;241;43m.\u001b[39;49m\u001b[43mmode\u001b[49m\u001b[43m,\u001b[49m\n\u001b[0;32m    862\u001b[0m \u001b[43m            \u001b[49m\u001b[43mencoding\u001b[49m\u001b[38;5;241;43m=\u001b[39;49m\u001b[43mioargs\u001b[49m\u001b[38;5;241;43m.\u001b[39;49m\u001b[43mencoding\u001b[49m\u001b[43m,\u001b[49m\n\u001b[0;32m    863\u001b[0m \u001b[43m            \u001b[49m\u001b[43merrors\u001b[49m\u001b[38;5;241;43m=\u001b[39;49m\u001b[43merrors\u001b[49m\u001b[43m,\u001b[49m\n\u001b[0;32m    864\u001b[0m \u001b[43m            \u001b[49m\u001b[43mnewline\u001b[49m\u001b[38;5;241;43m=\u001b[39;49m\u001b[38;5;124;43m\"\u001b[39;49m\u001b[38;5;124;43m\"\u001b[39;49m\u001b[43m,\u001b[49m\n\u001b[0;32m    865\u001b[0m \u001b[43m        \u001b[49m\u001b[43m)\u001b[49m\n\u001b[0;32m    866\u001b[0m     \u001b[38;5;28;01melse\u001b[39;00m:\n\u001b[0;32m    867\u001b[0m         \u001b[38;5;66;03m# Binary mode\u001b[39;00m\n\u001b[0;32m    868\u001b[0m         handle \u001b[38;5;241m=\u001b[39m \u001b[38;5;28mopen\u001b[39m(handle, ioargs\u001b[38;5;241m.\u001b[39mmode)\n",
      "\u001b[1;31mFileNotFoundError\u001b[0m: [Errno 2] No such file or directory: 'Powerball.csv'"
     ]
    }
   ],
   "source": [
    "df = pd.read_csv(r\"Powerball.csv\", encoding='latin-1')"
   ]
  },
  {
   "cell_type": "code",
   "execution_count": null,
   "id": "fc0c475b",
   "metadata": {},
   "outputs": [],
   "source": [
    "df.columns #This is just to see all the columns we are working with.  If there were more this would be more useful"
   ]
  },
  {
   "cell_type": "code",
   "execution_count": null,
   "id": "64289807",
   "metadata": {},
   "outputs": [],
   "source": [
    "df = df.drop_duplicates() #Saves dupe drops into the dataFrame"
   ]
  },
  {
   "cell_type": "code",
   "execution_count": null,
   "id": "3510b27a",
   "metadata": {},
   "outputs": [],
   "source": [
    "df = df.drop(columns = \"#\") # Got rid of '#' column, that was a product of my enumerate loop in the webscraper, it was not as useful as I thought it would be"
   ]
  },
  {
   "cell_type": "code",
   "execution_count": null,
   "id": "20c352fa",
   "metadata": {},
   "outputs": [],
   "source": [
    "df = df.dropna() #Get's rid of all the Null rows, rows with no info are useless"
   ]
  },
  {
   "cell_type": "markdown",
   "id": "023136ef",
   "metadata": {},
   "source": [
    "#### 3.1 States"
   ]
  },
  {
   "cell_type": "markdown",
   "id": "bff99c35",
   "metadata": {},
   "source": [
    "In the data below, this is the stats of Jackpots hit by state from 2003 to 2022.  In the Tableau figure 'Jackpot Winners by State' is from the whole history of Powerball."
   ]
  },
  {
   "cell_type": "code",
   "execution_count": null,
   "id": "89034bf0",
   "metadata": {},
   "outputs": [],
   "source": [
    "df['State'].value_counts().head(8) #Of the recent Jackpots won, PN. had the most wins"
   ]
  },
  {
   "cell_type": "markdown",
   "id": "105b2a3d",
   "metadata": {},
   "source": [
    "#### Figure 1"
   ]
  },
  {
   "cell_type": "code",
   "execution_count": null,
   "id": "a767f1c7",
   "metadata": {},
   "outputs": [],
   "source": [
    "state = df[\"State\"].value_counts().index\n",
    "count = df[\"State\"].value_counts().values\n",
    "\n",
    "fig = plt.figure(figsize=(24, 4))\n",
    "ax = fig.add_subplot(111)\n",
    "ax.plot(state, count)\n",
    "\n",
    "plt.xticks(rotation=45)\n",
    "\n",
    "plt.show()\n",
    "print(df['State'].value_counts().head(8))"
   ]
  },
  {
   "cell_type": "markdown",
   "id": "54e51b35",
   "metadata": {},
   "source": [
    "As we see later in the Data, these are not the States that spend the most on Powerball tickets, which is strange.  In a game of odds, it should be the states that spend the most that should statistically win most often.  In the Tableau figures of all time Data, Indiana wins the most by a large amount, second to Missouri.  I couldn't figure out why this is, other than those states might have a concentration of people who consistently play more often."
   ]
  },
  {
   "cell_type": "markdown",
   "id": "fb8c04bb",
   "metadata": {},
   "source": [
    "#### Tableau Dashboard for Winners by State"
   ]
  },
  {
   "cell_type": "markdown",
   "id": "39ce7829",
   "metadata": {},
   "source": [
    "Winners by State\n",
    "https://public.tableau.com/app/profile/sky.mouser/viz/PowerballWinnersbyState/Dashboard1"
   ]
  },
  {
   "cell_type": "markdown",
   "id": "59488fa4",
   "metadata": {},
   "source": [
    "As stated above, the Dashboard I created is using a data source for all the Powerball Jackpots from the start.  So in our quest for the Golden Ticket, Indiana is going to be our State to play in.  "
   ]
  },
  {
   "cell_type": "markdown",
   "id": "e17782ce",
   "metadata": {},
   "source": [
    "#### 3.2 Jackpots"
   ]
  },
  {
   "cell_type": "markdown",
   "id": "4c6ee24f",
   "metadata": {},
   "source": [
    "How much money are we talking here?  A lot.  But let's take a look to see just how much "
   ]
  },
  {
   "cell_type": "markdown",
   "id": "2fafc382",
   "metadata": {},
   "source": [
    "Below is a graph showing how much the Jackpot payouts have grown over the years.  The long, thin rectangles are error bars.  These show the range of variation in the data, main bars are the averages of the values.  As we can see, the values have gone up as time goes on.  "
   ]
  },
  {
   "cell_type": "markdown",
   "id": "266cc6ca",
   "metadata": {},
   "source": [
    "#### Figure 2"
   ]
  },
  {
   "cell_type": "code",
   "execution_count": null,
   "id": "928b41c2",
   "metadata": {
    "scrolled": false
   },
   "outputs": [],
   "source": [
    "# Converting Data to Datetime\n",
    "df_date = pd.to_datetime(df[\"Draw Date\"])\n",
    "df_date['date'] = df_date.dt.date\n",
    "df_date['date'] =  pd.to_datetime(df_date['date'], format='%Y-%m-%d')\n",
    "\n",
    "df_date['Month'] = df_date['date'].dt.month\n",
    "df_date['Year'] = df_date['date'].dt.year\n",
    "df_date['Day'] = df_date['date'].dt.weekday\n",
    "\n",
    "df_date [\"Month\"].value_counts()\n",
    "\n",
    "# Converts the str OBJ to a int value.  Because the millions data was a string I had to get the numbers themselves\n",
    "def convert_to_numeric(x):\n",
    "    return int(re.findall(r'\\d+', x)[0]) #r'\\d+' find's one or more digits in str 'x', the [0] is the first element found.  The int then converts that to int.\n",
    "\n",
    "money = df['Jackpot Prize'].map(convert_to_numeric)\n",
    "\n",
    "x = df_date[\"Year\"]\n",
    "y = money\n",
    "\n",
    "\n",
    "\n",
    "sns.barplot(x = x, y = y)\n",
    "plt.xticks(rotation=45, ha='right')\n",
    "plt.xlabel(\"Years\")\n",
    "plt.ylabel(\"Jackpot Prize  (In Millions)\")\n",
    "plt.show()"
   ]
  },
  {
   "cell_type": "markdown",
   "id": "ab053f55",
   "metadata": {},
   "source": [
    "Below is the about the amout range you could expect from hitting the Powerball."
   ]
  },
  {
   "cell_type": "code",
   "execution_count": null,
   "id": "f1280056",
   "metadata": {},
   "outputs": [],
   "source": [
    "# The average Jackpot Prize size in Millions\n",
    "money.mean()"
   ]
  },
  {
   "cell_type": "markdown",
   "id": "dd8c8b96",
   "metadata": {},
   "source": [
    "But if our objective is to figure out the absolute best opportunities to increase our chances to win we should see which Jackpot amounts have been hit the most.  After all, that could tell us what amount would be the best time to play."
   ]
  },
  {
   "cell_type": "code",
   "execution_count": null,
   "id": "2e65317c",
   "metadata": {
    "scrolled": true
   },
   "outputs": [],
   "source": [
    "df['Jackpot Prize'].value_counts().head(8) #How many times each Jackpot amount was won"
   ]
  },
  {
   "cell_type": "markdown",
   "id": "9ff52a58",
   "metadata": {},
   "source": [
    "So we now know, about the 50 million dollar jackpot range has historically been the sweet spot to play.  We will consider this for later."
   ]
  },
  {
   "cell_type": "markdown",
   "id": "69ca4b6c",
   "metadata": {},
   "source": [
    "But let's see about amounts won by States.  After all we need to know where to play this magical ticket!"
   ]
  },
  {
   "cell_type": "markdown",
   "id": "9efacce5",
   "metadata": {},
   "source": [
    "#### Tableau Dashboard Amounts Won by State"
   ]
  },
  {
   "cell_type": "markdown",
   "id": "9fee8ff7",
   "metadata": {},
   "source": [
    "2015-Present Jackpot Amount Won by State:\n",
    "https://public.tableau.com/app/profile/sky.mouser/viz/2015-PresentJackpotAmountWonbyState/Dashboard1"
   ]
  },
  {
   "cell_type": "markdown",
   "id": "df8c150d",
   "metadata": {},
   "source": [
    "This is interesting, the states that have won the most are California, Wisconsin, New York and Florida.  The amounts are in the Billions for these places, which means they got a couple big wins.  Good for them, but consistency is the persistent key!  After all, we are eyeing that $50 million Jackpot, for the sake of occurrences."
   ]
  },
  {
   "cell_type": "markdown",
   "id": "3a4b13be",
   "metadata": {},
   "source": [
    "#### 3.3 Days"
   ]
  },
  {
   "cell_type": "markdown",
   "id": "fc3caabd",
   "metadata": {},
   "source": [
    "Let's look at the dates and days to try to figure out when the best day would be to get this goose!"
   ]
  },
  {
   "cell_type": "markdown",
   "id": "fdcd3a7d",
   "metadata": {},
   "source": [
    "Below we will see the months that win the most.  We have a tie between March and June!  I was wondering why these months, and the best I could come up with is that March is about when Tax returns come in for most people, so maybe the excess money might inspire people to spend a little on a ticket to maybe hit it big!  After all, we did just get money from nowhere (I know how tax returns work, but the sensation of a sweet tax return is like pennies from Heaven)!  As for June, maybe the joy of Summer inspires a search for even more good things.  "
   ]
  },
  {
   "cell_type": "markdown",
   "id": "fb056d49",
   "metadata": {},
   "source": [
    "#### Figure 3"
   ]
  },
  {
   "cell_type": "code",
   "execution_count": null,
   "id": "dba4ae37",
   "metadata": {},
   "outputs": [],
   "source": [
    "month = df_date[\"Month\"].value_counts().index\n",
    "count = df_date[\"Month\"].value_counts().values\n",
    "\n",
    "plt.bar(month, count)\n",
    "\n",
    "plt.title(\"Number Jackpots Won by Month\")\n",
    "plt.xlabel(\"Month\")\n",
    "plt.ylabel(\"Count\")\n",
    "\n",
    "plt.xticks(rotation=45)\n",
    "\n",
    "plt.show()\n",
    "df_date['Month'].value_counts()"
   ]
  },
  {
   "cell_type": "markdown",
   "id": "ba468b5f",
   "metadata": {},
   "source": [
    "Okay we have our range of months.  Lets get it down to days.  So the Powerball is drawn on 3 days each week: Monday, Wednesday and Saturday."
   ]
  },
  {
   "cell_type": "markdown",
   "id": "d945fcbd",
   "metadata": {},
   "source": [
    "#### Figure 4"
   ]
  },
  {
   "cell_type": "code",
   "execution_count": null,
   "id": "b82af2d3",
   "metadata": {
    "scrolled": true
   },
   "outputs": [],
   "source": [
    "day = df_date[\"Day\"].value_counts().index\n",
    "count = df_date[\"Day\"].value_counts().values\n",
    "\n",
    "plt.bar(day, count)\n",
    "\n",
    "plt.title(\"Number of Draw Dates by Day of Week\")\n",
    "plt.xlabel(\"Day\")\n",
    "plt.ylabel(\"Count\")\n",
    "\n",
    "plt.xticks(rotation=45)\n",
    "\n",
    "plt.show()"
   ]
  },
  {
   "cell_type": "markdown",
   "id": "a1e0f66a",
   "metadata": {},
   "source": [
    "Wednesday and Saturday are pretty close!  Wednesday is just a bit higher, so we are going to go with the Wednesday drawing as our best day but Saturday is a good second if that is closer to a $50 million dollar Jackpot or if we couldn't get to Indiana on time."
   ]
  },
  {
   "cell_type": "markdown",
   "id": "6cf15e3a",
   "metadata": {},
   "source": [
    "#### 3.4 The Numbers"
   ]
  },
  {
   "cell_type": "markdown",
   "id": "dadc1dd1",
   "metadata": {},
   "source": [
    "We have our place, we have our month and our day; but the Powerball isn't about that, it's about the numbers.  In this section we will get down to what really matters, how to get the right numbers!"
   ]
  },
  {
   "cell_type": "code",
   "execution_count": null,
   "id": "d5d347d5",
   "metadata": {},
   "outputs": [],
   "source": [
    "#Reading in the Dataframe for this section to run the code\n",
    "df2 = pd.read_csv(r\"Powerball_Data_Analysis_Clean.csv\", encoding='latin-1')"
   ]
  },
  {
   "cell_type": "markdown",
   "id": "711bdb56",
   "metadata": {},
   "source": [
    "For the sake of not showing the entire process that lead me to this, I will just say I tried a series of different approaches to finding what is the best most occurring numbers to play.  I tried to find the min and max of every one of the 5 white balls and the Powerball itself.  The one good thing I learned is that the 5th ball has never been lower than 22.  So by merging all the numbers drawn for the white balls, we get a larger data set to look through for occurances without regard to position drawn and as long as there is at least 1 number above 22 we will be good.  "
   ]
  },
  {
   "cell_type": "code",
   "execution_count": null,
   "id": "632008ad",
   "metadata": {
    "scrolled": true
   },
   "outputs": [],
   "source": [
    "merged = pd.concat([df2['WB1'], df2['WB2'], df2['WB3'], df2['WB4'], df2['WB5']])"
   ]
  },
  {
   "cell_type": "markdown",
   "id": "dd1434f9",
   "metadata": {},
   "source": [
    "There are our top 5 numbers to play based on how often in each drawing they come up.  This will give us the best chance of them coming up.  61, 32, 21, 63, 36."
   ]
  },
  {
   "cell_type": "code",
   "execution_count": null,
   "id": "68a8f0af",
   "metadata": {
    "scrolled": true
   },
   "outputs": [],
   "source": [
    "#All numbers occurrances\n",
    "merged.value_counts().head(5)"
   ]
  },
  {
   "cell_type": "markdown",
   "id": "2c852c2f",
   "metadata": {},
   "source": [
    "So we have the 5 numbers, but that is only a million dollars.  We need the most important number of all:  The Power Ball!"
   ]
  },
  {
   "cell_type": "code",
   "execution_count": null,
   "id": "e5d0ddf6",
   "metadata": {
    "scrolled": true
   },
   "outputs": [],
   "source": [
    "numbers_frequency = df2['PB'].value_counts()\n",
    "top_5_numbers_frequency = numbers_frequency.head(5)\n",
    "print(top_5_numbers_frequency)"
   ]
  },
  {
   "cell_type": "markdown",
   "id": "aa1658ac",
   "metadata": {},
   "source": [
    "For the Power Ball, we have 3 options which is kind of heartbreaking.  4, 18, or 24.\n",
    "For the sake of having a final number, I am going to go for the middle and pick 18.  The odds are just as good the other 2.  "
   ]
  },
  {
   "cell_type": "markdown",
   "id": "6951fbc5",
   "metadata": {},
   "source": [
    "#### 3.5 The Best"
   ]
  },
  {
   "cell_type": "markdown",
   "id": "2d42519a",
   "metadata": {},
   "source": [
    "We now know what to do for our best chances of success!  To have the best odds of winning: "
   ]
  },
  {
   "cell_type": "markdown",
   "id": "cc09468c",
   "metadata": {},
   "source": [
    "1.) Wait for Jackpot to be about 50 Million"
   ]
  },
  {
   "cell_type": "markdown",
   "id": "ca77d4f8",
   "metadata": {},
   "source": [
    "2.) The 50 Million Jackpot should fall in March or June"
   ]
  },
  {
   "cell_type": "markdown",
   "id": "e320ff91",
   "metadata": {},
   "source": [
    "3.) Get Ticket from Indiana"
   ]
  },
  {
   "cell_type": "markdown",
   "id": "9a4cbf14",
   "metadata": {},
   "source": [
    "4.) Buy for the Wednesday drawing for best results, but Saturday will work if closer to 50 Million Jackpot or if it makes it March or June."
   ]
  },
  {
   "cell_type": "markdown",
   "id": "26a93a5e",
   "metadata": {},
   "source": [
    "5.) Play the numbers: 61, 32, 21, 63, 36 and the Power Ball of: 18 (4 or 24 if you feel like it)"
   ]
  },
  {
   "cell_type": "markdown",
   "id": "9c16e497",
   "metadata": {},
   "source": [
    "#### 3.6 Conclusion"
   ]
  },
  {
   "cell_type": "markdown",
   "id": "1fafb4ff",
   "metadata": {},
   "source": [
    "With ALL of this considered, that has to make our odds like 50% right?  Yeah.  I wish.  So I crunched the numbers so you don't have to!  First thing to take into account, the location of buying a ticket doesn't actually matter statistically speaking.  But it's a matter of Luck.  The Powerball is a game of hope, but no one told Math that.  The best that the State, Day and Month as far as statistics are concerned is non-existent.  Yet I have data on it, and we can see patterns; so take that for what it's worth to you.\n",
    "\n",
    "The odds of hitting the Powerball is 1 in 292.2 Million.  A long shot to say the least.\n",
    "Playing our numbers, on our day, in our month, with our targeted Jackpot:  Gives you approximately a 0.0000047% edge to win.\n",
    ".....Wooooo......\n",
    "That would change your odds from 1 in 292.2 Million to 1 in 292.152 Millon.\n",
    "\n",
    "So it's not nothing.  But it feels like it might as well be.  "
   ]
  },
  {
   "cell_type": "markdown",
   "id": "abbc96f8",
   "metadata": {},
   "source": [
    "### 4. Life and The Powerball"
   ]
  },
  {
   "cell_type": "markdown",
   "id": "9f72dd4f",
   "metadata": {},
   "source": [
    "#### 4.1 Growing"
   ]
  },
  {
   "cell_type": "markdown",
   "id": "115ec8d1",
   "metadata": {},
   "source": [
    "So, why play? We live in the Age of Information, the odds have been out there.  With these odds considered, we can assume that the interest in the Powerball has drastically dropped right? Let's take a look at some sales figures:"
   ]
  },
  {
   "cell_type": "code",
   "execution_count": null,
   "id": "f3457f96",
   "metadata": {},
   "outputs": [],
   "source": [
    "# Reading in a CSV exported from Web Scraper\n",
    "df3 = pd.read_csv(r\"Years_Sales_Clean.csv\", encoding='latin-1')"
   ]
  },
  {
   "cell_type": "markdown",
   "id": "9c7fae60",
   "metadata": {},
   "source": [
    "#### Figure 5"
   ]
  },
  {
   "cell_type": "code",
   "execution_count": null,
   "id": "9ea026bf",
   "metadata": {
    "scrolled": true
   },
   "outputs": [],
   "source": [
    "x = df3['Years']\n",
    "y = df3['Sales(In_Billions)']\n",
    "\n",
    "plt.bar(x, y)\n",
    "\n",
    "\n",
    "plt.title(\"Sales by Years\")\n",
    "plt.xlabel(\"Years\")\n",
    "plt.ylabel(\"Sales(In_Billions)\")\n",
    "\n",
    "plt.xticks(rotation=45)\n",
    "plt.ylim(min(y) * 0.9, max(y) * 1.1)\n",
    "\n",
    "plt.show()"
   ]
  },
  {
   "cell_type": "markdown",
   "id": "74b3a07f",
   "metadata": {},
   "source": [
    "As we can see from these figures, not only has the Powerball not diminished in the Age of Information, where we literally have the data of how impossible the odds are; it has grown.  By A LOT!  When I saw this originally doing exploration, I seriously got to thinking of why this is?  Is it because the populations growing?  Are people more desperate?  So I started to look into Which places are spending the most on the Powerball:"
   ]
  },
  {
   "cell_type": "markdown",
   "id": "84229c82",
   "metadata": {},
   "source": [
    "#### 4.2 Sales by State"
   ]
  },
  {
   "cell_type": "code",
   "execution_count": null,
   "id": "0c845682",
   "metadata": {
    "scrolled": true
   },
   "outputs": [],
   "source": [
    "df4 = pd.read_csv(r\"Lottery_Sales_Stats_Clean.csv\", encoding='latin-1')\n",
    "df4.head(10)"
   ]
  },
  {
   "cell_type": "markdown",
   "id": "f444e59a",
   "metadata": {},
   "source": [
    "So we can see who's spending the most.  But why these States?  They are all pretty populated, but there are some outliers here.  Maryland is in the top 10 of Sales but they are a middle state by population.  So I got to thinking about what could be a driving force that would compel people to buy so many Powerball Tickets."
   ]
  },
  {
   "cell_type": "markdown",
   "id": "cd1cf194",
   "metadata": {},
   "source": [
    "#### 4.2 Gini Coefficient "
   ]
  },
  {
   "cell_type": "markdown",
   "id": "6f378c93",
   "metadata": {},
   "source": [
    "I looked into Wealth Inequality and came upon the Gini Coefficient.  The Gini Coefficient is a summarization of the dispersion of income across an entire populations income distribution.  So it's a good measurement of the Income Gap.  "
   ]
  },
  {
   "cell_type": "code",
   "execution_count": null,
   "id": "59b6015d",
   "metadata": {},
   "outputs": [],
   "source": [
    "df5 = pd.read_csv(r\"Gini_Sales_Clean.csv\", encoding='latin-1')\n",
    "df5.head(10)"
   ]
  },
  {
   "cell_type": "markdown",
   "id": "12424b73",
   "metadata": {},
   "source": [
    "Below we can see a graph shows the Gini Coefficient across all the States.  The Higher the Gini Coefficient, the larger the wage gap."
   ]
  },
  {
   "cell_type": "markdown",
   "id": "47de4ec8",
   "metadata": {},
   "source": [
    "#### Figure 6"
   ]
  },
  {
   "cell_type": "code",
   "execution_count": null,
   "id": "9e79b469",
   "metadata": {},
   "outputs": [],
   "source": [
    "x = df5['States']\n",
    "y = df5['Gini Coeffecient']\n",
    "\n",
    "fig = plt.figure(figsize=(20, 2))\n",
    "ax = fig.add_subplot(111)\n",
    "ax.plot(x, y)\n",
    "\n",
    "plt.title(\"Wealth Inequality\")\n",
    "plt.xlabel(\"States\")\n",
    "plt.ylabel(\"Gini Coeffecient\")\n",
    "\n",
    "plt.xticks(rotation=45)\n",
    "plt.ylim(min(y) * 0.9, max(y) * 1.1)\n",
    "\n",
    "plt.show()"
   ]
  },
  {
   "cell_type": "markdown",
   "id": "c049b0a1",
   "metadata": {},
   "source": [
    "So let's get a better look at the Gini stats next to the Sales stats and see how they stack.  Below is a Data Frame I made in my work Notebooks by joining the two tables in SQL."
   ]
  },
  {
   "cell_type": "markdown",
   "id": "c524c457",
   "metadata": {},
   "source": [
    "In the chart below, we see the Index_Inequality on the left, which shows where the States listed are on the ranking of largest Wealth Inequality.  On the right, the Index_Sales, is where the listed States rank in Powerball Sales.  "
   ]
  },
  {
   "cell_type": "code",
   "execution_count": null,
   "id": "7393ccb6",
   "metadata": {
    "scrolled": true
   },
   "outputs": [],
   "source": [
    "df6 = pd.read_csv(r\"Gini_Sales.csv\", encoding='latin-1')\n",
    "df6.head(10)"
   ]
  },
  {
   "cell_type": "markdown",
   "id": "ba6bc6f5",
   "metadata": {},
   "source": [
    "While not perfect, these seem to be pretty good indicators that there is a correlation between Wealth Inequality and States that spend the most on the Powerball.  \n",
    " \n",
    "So is Poverty the main cause?"
   ]
  },
  {
   "cell_type": "code",
   "execution_count": null,
   "id": "6df040c1",
   "metadata": {
    "scrolled": true
   },
   "outputs": [],
   "source": [
    "df7 = pd.read_csv(r\"Poverty_States.csv\", encoding='latin-1')\n",
    "df7.head(10)"
   ]
  },
  {
   "cell_type": "markdown",
   "id": "743c2167",
   "metadata": {},
   "source": [
    "If we look at the States with the highest sales in the Powerball, some of these States show up, but not as balanced as with the Gini Coefficient.  Poverty is a factor, but I don't think it's the main factor.  \n",
    "\n",
    "If I were to infer based on the data available, I would say that Wealth Inequality is the largest factor to the steady growth of the Powerball in the States that do the most Powerball business.  \n",
    "\n",
    "Thinking on this, I came to the conclusion that it is because in these states, there are many rich people intermingled with poor people.  The exposure of seeing people who have such nice things could easily be a factor that would inspire someone to want to hit it big with the lottery, odds be damned! I also think because we are in the Information Age, social media could also play a role in inciting the lust for quick fortune and instant gratification.  The shrinking of the Middle Class could also be a contributing factor to the growth for similar reasons.  All of these COULD be factors, but with the information I have, it's indeterminate.  Just some idea that I wanted to explore with what was available."
   ]
  },
  {
   "cell_type": "markdown",
   "id": "56b786e8",
   "metadata": {},
   "source": [
    "### 5. Final Word"
   ]
  },
  {
   "cell_type": "markdown",
   "id": "4c7600f8",
   "metadata": {},
   "source": [
    "In conclusion: Hitting the Powerball is hard.  Even doing everything we can, the odds of winning aren't great.  Yet that doesn't stop people from playing.  Why?  Shouldn't we know when we can't win?  No.  We can't.  Because we are human.  For better or worse, that nature is part of the reason we as a species are still here.  \"WE\" are the heroes of our story.  \"WE\" can!  It's our blessing and our curse; to keep trying even if trying is nearly impossible.  The Powerball is a lot of things.  It's a lot of money.  But what it represents is even more: Hope.  It's just a surrogate of a dream, that \"WE\" can be lucky enough.  I say: \"Why not?\".  Statistically I think I have proven why not, but will that stop The Dream?  I think not.  \n",
    "\n",
    "Through this journey I also learned that maybe the Powerball is not only a game of chance, but a potential barometer for the state of the good ol' USA.  It might show us that exposure to others' fantastic lives, could drive us to rely on chance to even the odds.  Maybe, through the Powerball, we can watch year over year as the rich get richer and the rest of us do everything that we can to try to improve our situations.  This project can't say.  But I hope it gives you something to think about. I hope it was a little entertaining. But above all else: I hope it's given you the edge to win.  Because after all, \"Someones gotta win.  Might as well be you\".  Thank you for reading!"
   ]
  }
 ],
 "metadata": {
  "kernelspec": {
   "display_name": "Python 3 (ipykernel)",
   "language": "python",
   "name": "python3"
  },
  "language_info": {
   "codemirror_mode": {
    "name": "ipython",
    "version": 3
   },
   "file_extension": ".py",
   "mimetype": "text/x-python",
   "name": "python",
   "nbconvert_exporter": "python",
   "pygments_lexer": "ipython3",
   "version": "3.10.9"
  }
 },
 "nbformat": 4,
 "nbformat_minor": 5
}
